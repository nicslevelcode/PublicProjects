{
  "nbformat": 4,
  "nbformat_minor": 0,
  "metadata": {
    "colab": {
      "name": "Python Useful Notes",
      "provenance": [],
      "collapsed_sections": [],
      "toc_visible": true
    },
    "kernelspec": {
      "name": "python3",
      "display_name": "Python 3"
    }
  },
  "cells": [
    {
      "cell_type": "markdown",
      "metadata": {
        "id": "AwnR0G1dRLuQ",
        "colab_type": "text"
      },
      "source": [
        "# Matplotlib"
      ]
    },
    {
      "cell_type": "code",
      "metadata": {
        "id": "21kZexzT1n5y",
        "colab_type": "code",
        "colab": {}
      },
      "source": [
        "import matplotlib.pyplot as plt"
      ],
      "execution_count": null,
      "outputs": []
    },
    {
      "cell_type": "code",
      "metadata": {
        "id": "HQcbGEMU1gtb",
        "colab_type": "code",
        "colab": {}
      },
      "source": [
        "x=[1,2,3]\n",
        "y=[3,2,1]\n",
        "z=[1,1,1]"
      ],
      "execution_count": null,
      "outputs": []
    },
    {
      "cell_type": "code",
      "metadata": {
        "id": "UO79nahv1bWM",
        "colab_type": "code",
        "colab": {
          "base_uri": "https://localhost:8080/",
          "height": 279
        },
        "outputId": "57220c03-344e-4794-8378-bf7d47308cb1"
      },
      "source": [
        "plt.plot(x,y,color='red', linewidth=5, label='test')\n",
        "plt.plot(y,z,color='blue', linewidth=2, label='test')\n",
        "plt.xlabel('x')\n",
        "plt.ylabel('y')\n",
        "plt.legend()\n",
        "plt.show()"
      ],
      "execution_count": null,
      "outputs": [
        {
          "output_type": "display_data",
          "data": {
            "image/png": "[encoded data removed]",
            "text/plain": [
              "<Figure size 432x288 with 1 Axes>"
            ]
          },
          "metadata": {
            "tags": [],
            "needs_background": "light"
          }
        }
      ]
    },
    {
      "cell_type": "code",
      "metadata": {
        "id": "GLDT_OgeyvLW",
        "colab_type": "code",
        "colab": {}
      },
      "source": [
        "df.plot(x='col',y='col',kind='line',rot=45)\n",
        "plt.show()"
      ],
      "execution_count": null,
      "outputs": []
    },
    {
      "cell_type": "code",
      "metadata": {
        "id": "IXadg54jy35X",
        "colab_type": "code",
        "colab": {}
      },
      "source": [
        "df.plot(x='col',y='col',kind='scatter',rot=45)\n",
        "plt.show()"
      ],
      "execution_count": null,
      "outputs": []
    },
    {
      "cell_type": "code",
      "metadata": {
        "id": "VwKjt_zO18vL",
        "colab_type": "code",
        "colab": {
          "base_uri": "https://localhost:8080/",
          "height": 283
        },
        "outputId": "1be4a17c-1710-4b3f-ff1e-fe210efe56b3"
      },
      "source": [
        "plt.scatter(x,y,marker='d')"
      ],
      "execution_count": null,
      "outputs": [
        {
          "output_type": "execute_result",
          "data": {
            "text/plain": [
              "<matplotlib.collections.PathCollection at 0x7f1ed02d1e48>"
            ]
          },
          "metadata": {
            "tags": []
          },
          "execution_count": 10
        },
        {
          "output_type": "display_data",
          "data": {
            "image/png": "[encoded data removed]",
            "text/plain": [
              "<Figure size 432x288 with 1 Axes>"
            ]
          },
          "metadata": {
            "tags": [],
            "needs_background": "light"
          }
        }
      ]
    },
    {
      "cell_type": "code",
      "metadata": {
        "id": "ZvwCsY1o2OED",
        "colab_type": "code",
        "colab": {
          "base_uri": "https://localhost:8080/",
          "height": 285
        },
        "outputId": "f6858442-4d78-43cc-bed1-2c2edc1fe7e7"
      },
      "source": [
        "plt.barh(x,y)"
      ],
      "execution_count": null,
      "outputs": [
        {
          "output_type": "execute_result",
          "data": {
            "text/plain": [
              "<BarContainer object of 3 artists>"
            ]
          },
          "metadata": {
            "tags": []
          },
          "execution_count": 16
        },
        {
          "output_type": "display_data",
          "data": {
            "image/png": "[encoded data removed]",
            "text/plain": [
              "<Figure size 432x288 with 1 Axes>"
            ]
          },
          "metadata": {
            "tags": [],
            "needs_background": "light"
          }
        }
      ]
    },
    {
      "cell_type": "code",
      "metadata": {
        "id": "kY1a38La2Pak",
        "colab_type": "code",
        "colab": {
          "base_uri": "https://localhost:8080/",
          "height": 283
        },
        "outputId": "83512d30-5d0e-4f83-9184-365c77f70b4e"
      },
      "source": [
        "plt.bar(x,y)"
      ],
      "execution_count": null,
      "outputs": [
        {
          "output_type": "execute_result",
          "data": {
            "text/plain": [
              "<BarContainer object of 3 artists>"
            ]
          },
          "metadata": {
            "tags": []
          },
          "execution_count": 22
        },
        {
          "output_type": "display_data",
          "data": {
            "image/png": "[encoded data removed]",
            "text/plain": [
              "<Figure size 432x288 with 1 Axes>"
            ]
          },
          "metadata": {
            "tags": [],
            "needs_background": "light"
          }
        }
      ]
    },
    {
      "cell_type": "markdown",
      "metadata": {
        "id": "kQNJCxqj2-yD",
        "colab_type": "text"
      },
      "source": [
        "![image.png](data:image/png;base64,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)"
      ]
    },
    {
      "cell_type": "code",
      "metadata": {
        "id": "tCCuTzajyktk",
        "colab_type": "code",
        "colab": {}
      },
      "source": [
        "df.plot(kind='bar',title='title')\n",
        "plt.show()"
      ],
      "execution_count": null,
      "outputs": []
    },
    {
      "cell_type": "code",
      "metadata": {
        "id": "dMr2-CPGya7P",
        "colab_type": "code",
        "colab": {}
      },
      "source": [
        "df['col'].hist(bins=5)\n",
        "plt.show()"
      ],
      "execution_count": null,
      "outputs": []
    },
    {
      "cell_type": "markdown",
      "metadata": {
        "id": "3ixEzVc3XUhZ",
        "colab_type": "text"
      },
      "source": [
        "# Dictionaries"
      ]
    },
    {
      "cell_type": "code",
      "metadata": {
        "id": "Z5aejUS9XVgH",
        "colab_type": "code",
        "colab": {}
      },
      "source": [
        "dict.get()\n",
        "dict.keys()\n",
        "dict.update()\n",
        "sorted(dict(key),reverse=True)[0] # gets the lowest ranked value in the dictionary\n",
        "del dict[key]\n",
        "dict.pop()\n",
        "'x' in dict"
      ],
      "execution_count": null,
      "outputs": []
    },
    {
      "cell_type": "markdown",
      "metadata": {
        "id": "0n3qv9O4LnJJ",
        "colab_type": "text"
      },
      "source": [
        "Counter"
      ]
    },
    {
      "cell_type": "code",
      "metadata": {
        "id": "n-aygRqnHweX",
        "colab_type": "code",
        "colab": {}
      },
      "source": [
        "from collections import Counter"
      ],
      "execution_count": null,
      "outputs": []
    },
    {
      "cell_type": "code",
      "metadata": {
        "id": "nyKzCZpyIKEp",
        "colab_type": "code",
        "colab": {}
      },
      "source": [
        "y = Counter(x) # returns count of items in the list/dictionary\n",
        "y.most_common(5) # prints 5 most common items"
      ],
      "execution_count": null,
      "outputs": []
    },
    {
      "cell_type": "code",
      "metadata": {
        "id": "GtQ9v5iiKTw2",
        "colab_type": "code",
        "colab": {}
      },
      "source": [
        "x=((1,2,3),(4,5,6),(1,3,4))"
      ],
      "execution_count": null,
      "outputs": []
    },
    {
      "cell_type": "code",
      "metadata": {
        "id": "M7DBb6UHKXP1",
        "colab_type": "code",
        "colab": {}
      },
      "source": [
        "test={}\n",
        "for a,b,c in x:\n",
        "  if a not in test:\n",
        "    test[a]=[]\n",
        "  test[a].append((b,c)) "
      ],
      "execution_count": null,
      "outputs": []
    },
    {
      "cell_type": "code",
      "metadata": {
        "id": "bQPpRHzzKnAD",
        "colab_type": "code",
        "colab": {
          "base_uri": "https://localhost:8080/",
          "height": 35
        },
        "outputId": "f97caf3e-822e-418d-d0d0-6aa1a2ba9cfe"
      },
      "source": [
        "test[1]"
      ],
      "execution_count": null,
      "outputs": [
        {
          "output_type": "execute_result",
          "data": {
            "text/plain": [
              "[(2, 3), (3, 4)]"
            ]
          },
          "metadata": {
            "tags": []
          },
          "execution_count": 10
        }
      ]
    },
    {
      "cell_type": "markdown",
      "metadata": {
        "id": "siMUsDygLoIg",
        "colab_type": "text"
      },
      "source": [
        "Default Dict"
      ]
    },
    {
      "cell_type": "code",
      "metadata": {
        "id": "69iMVPIeLQwW",
        "colab_type": "code",
        "colab": {}
      },
      "source": [
        "from collections import defaultdict"
      ],
      "execution_count": null,
      "outputs": []
    },
    {
      "cell_type": "code",
      "metadata": {
        "colab_type": "code",
        "id": "0qFRQ3QlLwOW",
        "colab": {}
      },
      "source": [
        "x=((1,2,3),(4,5,6),(1,3,4))"
      ],
      "execution_count": null,
      "outputs": []
    },
    {
      "cell_type": "code",
      "metadata": {
        "id": "bMjols_2LyZl",
        "colab_type": "code",
        "colab": {}
      },
      "source": [
        "test=defaultdict(list)"
      ],
      "execution_count": null,
      "outputs": []
    },
    {
      "cell_type": "code",
      "metadata": {
        "colab_type": "code",
        "id": "JjGn5UXnLwOi",
        "colab": {}
      },
      "source": [
        "for a,b,c in x:\n",
        "  test[b].append(c)"
      ],
      "execution_count": null,
      "outputs": []
    },
    {
      "cell_type": "code",
      "metadata": {
        "id": "8SIkcsuDMKne",
        "colab_type": "code",
        "colab": {
          "base_uri": "https://localhost:8080/",
          "height": 35
        },
        "outputId": "1e5ea1b7-731f-49af-868d-5795f9d344d3"
      },
      "source": [
        "type(test.items())"
      ],
      "execution_count": null,
      "outputs": [
        {
          "output_type": "execute_result",
          "data": {
            "text/plain": [
              "dict_items"
            ]
          },
          "metadata": {
            "tags": []
          },
          "execution_count": 40
        }
      ]
    },
    {
      "cell_type": "code",
      "metadata": {
        "id": "f39RszXbMMAK",
        "colab_type": "code",
        "colab": {
          "base_uri": "https://localhost:8080/",
          "height": 35
        },
        "outputId": "67408e95-4c4f-4110-8a0b-2b1b232dee69"
      },
      "source": [
        "type(list(test.items()))"
      ],
      "execution_count": null,
      "outputs": [
        {
          "output_type": "execute_result",
          "data": {
            "text/plain": [
              "list"
            ]
          },
          "metadata": {
            "tags": []
          },
          "execution_count": 41
        }
      ]
    },
    {
      "cell_type": "code",
      "metadata": {
        "id": "f_PpDR75MXQy",
        "colab_type": "code",
        "colab": {
          "base_uri": "https://localhost:8080/",
          "height": 35
        },
        "outputId": "2e48be8f-5b2d-4dfb-dc96-00d754812fa1"
      },
      "source": [
        "test"
      ],
      "execution_count": null,
      "outputs": [
        {
          "output_type": "execute_result",
          "data": {
            "text/plain": [
              "defaultdict(list, {2: [3], 3: [4], 5: [6]})"
            ]
          },
          "metadata": {
            "tags": []
          },
          "execution_count": 42
        }
      ]
    },
    {
      "cell_type": "code",
      "metadata": {
        "colab_type": "code",
        "id": "SOkFxi6bLwOm",
        "colab": {
          "base_uri": "https://localhost:8080/",
          "height": 35
        },
        "outputId": "f1c6fbea-e8f5-4e4b-d4ea-54136c1f6671"
      },
      "source": [
        "list(test.items())[:1]"
      ],
      "execution_count": null,
      "outputs": [
        {
          "output_type": "execute_result",
          "data": {
            "text/plain": [
              "[(2, [3])]"
            ]
          },
          "metadata": {
            "tags": []
          },
          "execution_count": 43
        }
      ]
    },
    {
      "cell_type": "code",
      "metadata": {
        "id": "TFl-mqq1MRJT",
        "colab_type": "code",
        "colab": {
          "base_uri": "https://localhost:8080/",
          "height": 35
        },
        "outputId": "d2a56a80-b0d5-4975-b412-b5a7a3faf4bd"
      },
      "source": [
        "test[1]"
      ],
      "execution_count": null,
      "outputs": [
        {
          "output_type": "execute_result",
          "data": {
            "text/plain": [
              "[]"
            ]
          },
          "metadata": {
            "tags": []
          },
          "execution_count": 47
        }
      ]
    },
    {
      "cell_type": "markdown",
      "metadata": {
        "id": "UbvCnqhqNvUv",
        "colab_type": "text"
      },
      "source": [
        "Ordered Dict"
      ]
    },
    {
      "cell_type": "code",
      "metadata": {
        "id": "ccAWy3NcNuyf",
        "colab_type": "code",
        "colab": {
          "base_uri": "https://localhost:8080/",
          "height": 35
        },
        "outputId": "c86b8421-eac0-45cb-a293-aa1f49063297"
      },
      "source": [
        "from collections import OrderedDict\n",
        "\n",
        "# Create an OrderedDict called: ridership_date\n",
        "ridership_date = OrderedDict()\n",
        "\n",
        "entries=((1,2),(4,5),(3,4))\n",
        "\n",
        "# Iterate over the entries\n",
        "for date, riders in entries:\n",
        "    # If a key does not exist in ridership_date, set it to 0\n",
        "    if date not in ridership_date:\n",
        "        ridership_date[date] = 0\n",
        "        \n",
        "    # Add riders to the date key in ridership_date\n",
        "    ridership_date[date] += riders\n",
        "    \n",
        "# Print the first 31 records\n",
        "list(ridership_date.items())[:2]"
      ],
      "execution_count": null,
      "outputs": [
        {
          "output_type": "execute_result",
          "data": {
            "text/plain": [
              "[(1, 2), (4, 5)]"
            ]
          },
          "metadata": {
            "tags": []
          },
          "execution_count": 51
        }
      ]
    },
    {
      "cell_type": "code",
      "metadata": {
        "id": "OXQ4CPhQOdPo",
        "colab_type": "code",
        "colab": {
          "base_uri": "https://localhost:8080/",
          "height": 90
        },
        "outputId": "e3095e7e-0720-4e16-d00c-ee322afa9a60"
      },
      "source": [
        "# Print the first key in ridership_date\n",
        "print(list(ridership_date.keys())[0])\n",
        "\n",
        "# Pop the first item from ridership_date and print it\n",
        "print(ridership_date.popitem(last=False))\n",
        "\n",
        "# Print the last key in ridership_date\n",
        "print(list(ridership_date.keys())[-1])\n",
        "\n",
        "# Pop the last item from ridership_date and print it\n",
        "print(ridership_date.popitem())"
      ],
      "execution_count": null,
      "outputs": [
        {
          "output_type": "stream",
          "text": [
            "1\n",
            "(1, 2)\n",
            "3\n",
            "(3, 4)\n"
          ],
          "name": "stdout"
        }
      ]
    },
    {
      "cell_type": "markdown",
      "metadata": {
        "id": "o1lkvOK6PByv",
        "colab_type": "text"
      },
      "source": [
        "Named Tuple"
      ]
    },
    {
      "cell_type": "code",
      "metadata": {
        "id": "oKvDm9kiQdZK",
        "colab_type": "code",
        "colab": {
          "base_uri": "https://localhost:8080/",
          "height": 35
        },
        "outputId": "8e650faa-edef-4d67-d420-3b4120a6a98e"
      },
      "source": [
        "entries=((1,2,3),(4,5,6),(1,3,4))\n",
        "# Import namedtuple from collections\n",
        "from collections import namedtuple\n",
        "\n",
        "# Create the namedtuple: DateDetails\n",
        "DateDetails = namedtuple('DateDetails', ['date', 'stop', 'riders'])\n",
        "\n",
        "# Create the empty list: labeled_entries\n",
        "labeled_entries = []\n",
        "\n",
        "# Iterate over the entries list\n",
        "for date, stop, riders in entries:\n",
        "    # Append a new DateDetails namedtuple instance for each entry to labeled_entries\n",
        "    details = DateDetails(date, stop, riders)\n",
        "    \n",
        "    labeled_entries.append(details)\n",
        "    \n",
        "# Print the first 5 items in labeled_entries\n",
        "print(labeled_entries[:2])"
      ],
      "execution_count": null,
      "outputs": [
        {
          "output_type": "stream",
          "text": [
            "[DateDetails(date=1, stop=2, riders=3), DateDetails(date=4, stop=5, riders=6)]\n"
          ],
          "name": "stdout"
        }
      ]
    },
    {
      "cell_type": "markdown",
      "metadata": {
        "id": "3Cx9LtfNRBhN",
        "colab_type": "text"
      },
      "source": [
        "Once you have a namedtuple, you can write more expressive code that is easier to understand. Remember, you can access the elements in the tuple by their name as an attribute. For example, you can access the date of the namedtuples in the previous exercise using the .date attribute.\n",
        "\n",
        "Here, you'll use the tuples you made in the previous exercise to see how this works."
      ]
    },
    {
      "cell_type": "code",
      "metadata": {
        "id": "TJEakHCqQ-Ym",
        "colab_type": "code",
        "colab": {
          "base_uri": "https://localhost:8080/",
          "height": 126
        },
        "outputId": "ba77a1a0-809c-466f-af91-bc1436b43a9b"
      },
      "source": [
        "# Iterate over the first twenty items in labeled_entries\n",
        "for item in labeled_entries[:2]:\n",
        "    # Print each item's stop\n",
        "    print(item.stop)\n",
        "    # Print each item's date\n",
        "    print(item.date)\n",
        "    # Print each item's riders\n",
        "    print(item.riders)"
      ],
      "execution_count": null,
      "outputs": [
        {
          "output_type": "stream",
          "text": [
            "2\n",
            "1\n",
            "3\n",
            "5\n",
            "4\n",
            "6\n"
          ],
          "name": "stdout"
        }
      ]
    },
    {
      "cell_type": "markdown",
      "metadata": {
        "id": "wngYuApDRT8B",
        "colab_type": "text"
      },
      "source": [
        "# Datetime"
      ]
    },
    {
      "cell_type": "code",
      "metadata": {
        "id": "VAsanqQW7pqm",
        "colab_type": "code",
        "colab": {}
      },
      "source": [
        "from datetime import datetime\n",
        "from datetime import date\n",
        "from datetime import timezone\n",
        "from datetime import timedelta"
      ],
      "execution_count": null,
      "outputs": []
    },
    {
      "cell_type": "code",
      "metadata": {
        "id": "wbKl66TqS3W8",
        "colab_type": "code",
        "colab": {
          "base_uri": "https://localhost:8080/",
          "height": 35
        },
        "outputId": "d2248add-7a79-4d52-ca6b-c265ba4c329a"
      },
      "source": [
        "datetime.now()\n",
        "datetime.utcnow()"
      ],
      "execution_count": null,
      "outputs": [
        {
          "output_type": "execute_result",
          "data": {
            "text/plain": [
              "datetime.datetime(2020, 6, 19, 15, 59, 23, 773157)"
            ]
          },
          "metadata": {
            "tags": []
          },
          "execution_count": 57
        }
      ]
    },
    {
      "cell_type": "markdown",
      "metadata": {
        "id": "BvAAI84oXn63",
        "colab_type": "text"
      },
      "source": [
        "to get timezone of a particular place use dateutil/tz"
      ]
    },
    {
      "cell_type": "code",
      "metadata": {
        "id": "d7IT-YQ1YEaT",
        "colab_type": "code",
        "colab": {}
      },
      "source": [
        "# Import tz\n",
        "from dateutil import tz\n",
        "\n",
        "# Create a timezone object for Eastern Time\n",
        "et = tz.gettz('America/New_York')\n",
        "\n",
        "# Loop over trips, updating the datetimes to be in Eastern Time\n",
        "for trip in onebike_datetimes[:10]:\n",
        "  # Update trip['start'] and trip['end']\n",
        "  trip['start'] = trip['start'].replace(tzinfo = et)\n",
        "  trip['end'] = trip['end'].replace(tzinfo = et)\n",
        "\n",
        "# Create the timezone object\n",
        "uk = tz.gettz('Europe/London')\n",
        "\n",
        "# Pull out the start of the first trip\n",
        "local = onebike_datetimes[0]['start']\n",
        "\n",
        "# What time was it in the UK?\n",
        "notlocal = local.astimezone(uk)"
      ],
      "execution_count": null,
      "outputs": []
    },
    {
      "cell_type": "markdown",
      "metadata": {
        "id": "EoNmy_bE8g6H",
        "colab_type": "text"
      },
      "source": [
        "There is a difference in changing tzinfo and adjusting timezone"
      ]
    },
    {
      "cell_type": "code",
      "metadata": {
        "id": "Iuka2ITy7Sw8",
        "colab_type": "code",
        "colab": {}
      },
      "source": [
        "dt.replace(tzinfo=timezone.utc)\n",
        "dt.astimezone(timezone.utc) #changes offset + clock itself"
      ],
      "execution_count": null,
      "outputs": []
    },
    {
      "cell_type": "code",
      "metadata": {
        "id": "5dum0Iyi8MgE",
        "colab_type": "code",
        "colab": {
          "base_uri": "https://localhost:8080/",
          "height": 35
        },
        "outputId": "852e6ecc-5f96-4d20-8c94-50764abafd3e"
      },
      "source": [
        "# October 1, 2017 at 15:26:26, UTC\n",
        "dt = datetime(2017, 10, 1, 15, 26, 26, tzinfo=timezone.utc)\n",
        "\n",
        "# Print results\n",
        "print(dt.isoformat())"
      ],
      "execution_count": null,
      "outputs": [
        {
          "output_type": "stream",
          "text": [
            "2017-10-01T15:26:26+00:00\n"
          ],
          "name": "stdout"
        }
      ]
    },
    {
      "cell_type": "code",
      "metadata": {
        "id": "znsINxnD8L3u",
        "colab_type": "code",
        "colab": {
          "base_uri": "https://localhost:8080/",
          "height": 35
        },
        "outputId": "3d77a44c-2a6f-4b9a-fd80-511f74a7b4c5"
      },
      "source": [
        "# Create a timezone for Pacific Standard Time, or UTC-8\n",
        "pst = timezone(timedelta(hours=-8))\n",
        "\n",
        "# October 1, 2017 at 15:26:26, UTC-8\n",
        "dt = datetime(2017, 10, 1, 15, 26, 26, tzinfo=pst)\n",
        "\n",
        "# Print results\n",
        "print(dt.isoformat())"
      ],
      "execution_count": null,
      "outputs": [
        {
          "output_type": "stream",
          "text": [
            "2017-10-01T15:26:26-08:00\n"
          ],
          "name": "stdout"
        }
      ]
    },
    {
      "cell_type": "code",
      "metadata": {
        "id": "q9vlrv6YWMDp",
        "colab_type": "code",
        "colab": {}
      },
      "source": [
        "# Create a Timezone object for Chicago\n",
        "chicago_usa_tz = timezone('US/Central')\n",
        "\n",
        "# Create a Timezone object for New York\n",
        "ny_usa_tz = timezone('US/Eastern')\n",
        "\n",
        "# Iterate over the daily_summaries list\n",
        "for orig_dt, ridership in daily_summaries:\n",
        "\n",
        "    # Make the orig_dt timezone \"aware\" for Chicago\n",
        "    chicago_dt = orig_dt.replace(tzinfo=chicago_usa_tz)\n",
        "    \n",
        "    # Convert chicago_dt to the New York Timezone\n",
        "    ny_dt = chicago_dt.astimezone(ny_usa_tz)\n",
        "    \n",
        "    # Print the chicago_dt, ny_dt, and ridership\n",
        "    print('Chicago: %s, NY: %s, Ridership: %s' % (chicago_dt, ny_dt, ridership))"
      ],
      "execution_count": null,
      "outputs": []
    },
    {
      "cell_type": "markdown",
      "metadata": {
        "id": "Ckq4NvTXWlBb",
        "colab_type": "text"
      },
      "source": [
        "![image.png](data:image/png;base64,iVBORw0KGgoAAAANSUhEUgAAAZ4AAAEGCAYAAABVSfMhAAAgAElEQVR4Ae2c38ttV9Xfz3/Ra6GXGtpboYXao1B6ZbwtngP6gpqWIkWMIBa9KBUMiC/ib5NAwB8XojcirY2g2DQvIQd5w/EiNeYVjxZjk5uW8tK33S/fJ3yeMzIy5ppzrb322vvZ+3tgM9eac8wxxhzjO8d3zbX3c27t/M8RcAQcAUfAEdgwArc2tGVTjoAj4Ag4Ao7AzsRjEDgCjoAj4AhsGgETz6bhtjFHwBFwBBwBE48x4Ag4Ao6AI7BpBEw8m4bbxhwBR8ARcATeQjyv/++/3d37m9ff9vnb//t3O38cA2PAGDAGjIE1MPA24vl33//VLn6e/q+/3f3P//V//HEMjAFjwBgwBlbBgInHQFoFSH448cOZMWAMjGLAxGPiMfEYA8aAMbApBkw8BtymgBt9IrKcn56NgfPFgInHxGPiMQaMAWNgUwyYeAy4TQHnp9jzfYp1bp3bUQyYeEw8Jh5jwBgwBjbFgInHgNsUcKNPRJbz07MxcL4YMPGYeEw8xoAxYAxsigETjwG3KeD8FHu+T7HOrXM7ioGzIJ6vfuvJ3a1bt64/dz/04d2D115fVFDX1DWahCj3kxd/sPsX//4fXH/+1RP/ePff/8fN/N8jnv3FL3fvf/TR3Ysv3V+UixiXLa/lr/y+c/fu7pXf//GkfP/966/t/u3X/+UVPoSVLeNy022dQl4//4Undp/45OO7P/z5jVm5k7zm3b59++pzE/dVxM/ZEM97br939/LvHsxKZgxEdf2pT39mtw+JVTqn+iCdb/6n/7jqOqZsHnJsX+J55rvfX7X4j276UyhQrbycA/EI32s+UN2kvI762sq/+nv7Sg9LemjS/pnSc8yx1YgnnxTiCeTHP332oAGQ7RHi0SlIRCLfNKcX+K2J57Pf+dCqG7K3vkOP9zZIz/6xiKfnl8f3e6V0LOI5hbyZeN7EzmrEQ1Ip7ira9B26HSEeybzzXY9cPQWoPVXi0WsUPdUeOmZb6Dfx7Fegt8jRMWyYeOa/aot56u2rizrxEJge8YiQ9Hn+3q+uiICT0T6noh7xSDevzLC7BvHo1Z5OWugmBktbnXhaxMMrFsn81cvP7T7wH/7h9fdA1as5ycXviqIMutSHnK551SfdsjF3Hbyi4j202updtDZOlInfpbBp4ni8jrL4p5NRlImvGCqfomx8355l4xi25Lt8YPPr+v5vfnv9/l1PtMiqzeup/I/yrWtyRk6rHCEzklfJCGt//Td/fXXKRq/6sw8Zb9VrMs1Tv/TxHZR0gmd9T6lx7OS20pn9iPc5VzGnuo65y7JxDJ2S+eCdO1d5VY7ArfKZ9WnOaF4zNitd0pf3RMYRfiKLf7G/shXjEveF5uW4VDqj/jWvNz/xiHRENvHVGKcRkcKSxfWIJ+pck3hEaFqLTlBLfdeGzZsw3lMIKCoai0UHsuCLZjY4G15rp3CIZHSPrr/4y3+yk/6rovGFf7T7i7/8p7u/evm/XRUI7MbYTV2zcdQiR3EWwOnT9Ze+/JXre740rQqyNkrVjy612qBRhs2UNxmyVdGJ+riW3kqWNWns3ku/vrL90cceuzpJZ38rX7K/2JvTKtcRA8ydk1flF5yBnYwl6UUOGfUJR9k+ctIJdsAiuMNPjc8lGuZWbStXc2SVKxGPcvncCy9e5V7X0k3OJSOdo3mtcl35KtzEog+pSbZaQ/YnyzC/2gPISkb6448cdB/9QPYQ7VGIJxdqyGDpqedYxHOME0/esGxuNntrU6ufYkGBQpfGVDBUXNCXi8UU+CCPvFF6GwSdktOTmVr61OZCHsd0TQEYnSf/KjLJenXfksVX+cYGR2cuIJUO5kwVhcqf2Kc8kcvYPyevMefoYD65BwuSRUYt/cipr9KnfsnEhyBkwZ7u9/1UcW7pbMmCJY2DZx5oyDk4q3TkvKKPOfiT5+Z5yGleiwSmxjS/pRPdrRaf98FmS3fuPwrx5FdTN5V4cjD3va82KTopCnkTM652SoZTj4oWchQOFQ0KWVVUoo3qGsDmTdbbIOhqzdcGYPMjG9vWeMtu3vRRV75uyUbdbHDJar78oVgwljcxRY052e7IfY94RvKqnFfFP2JQdnggyX5FOY1FDGXZfN+yneVG71u5qua3ZCMGyREPFMo5D0ajeW1hM9uPeIr+Rn9iv65bc5Br+ch4q106r6Vvqt/EM/HEpdeCmSSngrnvWN7MUR9kMUI8FJ44H+LRpkcXcrFobEE82nzx3TPX2lDR59bmRaalR/ogAGTV5k0fx/J1SzZuejaqZDU/Eg+Fg7XlljnZ7sj9lsTDA0n2S9iJxBUxlGXz/U0mntG8trCbcSW5jI14n/eEYhkxmGOre3Ap3dU4fS3bvXnM36c18VwY8Rz7xKONl0mBzZw3mTbAkhNPa0PkTd+SU39LNm56NrhkNUf+sjbGDrGJT4V44kPQpRDPaF5b2M24iniawmMc680Z8VH+ieDinhuZF/3Y59rEswfxHOM7nrjZq8S3niZj/9onngqwvK6gEMtX5CjU+N8int4G642jn7ZVDBiPbS4QjEWbeT3Sz3pZf14revZpD0U8nHaFFfmX7/G56p9DPC3/0T+3XSOvEYPkrnrVxlgvrxEnrAcb6FU/fZJHrtdWuuOcno+MRz80HzwrnlHfIa5NPHsQzxq/aotJ3fdVm3RRFHiNpr74mk33axOPdGojxtOJ7vUrIX20uSQD4KOcNhGvFvLmY1O2NnmlT3ZaH2yNbCzZzBtTeuOmZ6PiXyQeZLW2EXstn6v+VuGek9f4IIKN/PpM/RWhjMqhN7fgMWI0y8y5XyOvYE26wBX5R79a+cX9VF4zNrjXL+XQyxqFHx5Y6JtqZb8n39OZx1n/IfBarWU14tEvy/ibnNzGX6tV35sc+scF6M9+9X4KXfkag3iKJx75B/nwc9n8BfGcAhXXO3XNZoVEtCkF5kg8ms8GRE6bUD9f1UZiY0c7bHLkI2khp03EOK36GI+t/EJGbSwCeSzKUWTipmct2JJMLghxQ6Mvy0T/WtcU65hTrjkFz8mrCIX5tOjJPmTZSq4iqKwn3os8sas2fl8U5Uavc+7m5pU8Kb9gGR1gUC3+IE9O1ea8RhnG5Cd60aU2+y99US7qijazHDpZQ5SVjda49hV/HhDlkF+7XY141nZsjr45P6eeo7dHPHN0WbZ9EnFsto+NiGLfYu+8bZ+3c4m5iWfi1YyJxxvrXDZ6XoeJx9jOmNjy3sRj4rk+fm8JPNs6buEz8Rw3/peO/7Mhnvj9zT5/e5O/q9pH16WDy+s/3eJm4jnd3FzCvjkL4rmERHmNLhTGgDFwLhgw8Uy8ajuXJHsdLljGgDFwShgw8Zh4/B2PMWAMGAObYsDEY8BtCrhTeuqyLz4FGAPHwYCJx8Rj4jEGjAFjYFMMmHgMuE0B5yfM4zxhOu6O+ylhwMRj4jHxGAPGgDGwKQZMPAbcpoA7pacu++JTgDFwHAyYeEw8Jh5jwBgwBjbFgInHgNsUcH7CPM4TpuPuuJ8SBkw8Jh4TjzFgDBgDm2LAxGPAbQq4U3rqsi8+BRgDx8GAicfEY+IxBowBY2BTDJh4DLhNAecnzOM8YTrujvspYcDEY+Ix8RgDxoAxsCkGTDwG3KaAO6WnLvviU4AxcBwMmHhMPCYeY8AYMAY2xYCJx4DbFHB+wjzOE6bj7rifEgZMPCYeE48xYAwYA5tiwMRjwG0KuFN66rIvPgUYA8fBgInHxGPiMQaMAWNgUwyYeAy4TQHnJ8zjPGE67o77KWHAxGPiMfEYA8aAMbApBs6CeL76rSd3t27duv7c/dCHdw9ee31RINfUteQJ49lf/HJ3+/bt68+du3d3r/z+j1dr+fwXnrjul4xkl9iYM+eZ735/F31ozZVvn/jk47s//PmNg/uED4qLfJOP9N3klvweaz0vvnR/9/5HH12Eq4xbreUYuVDsRnC4z1qPsa61bWqfKk7HwtrZEM97br939/LvHqwK9k99+jO7fUhsLljYvD0wbLlp5IuJZ/lrmjm5usnEA9YpaFPEM4opdI627J+RB7I5eRm1f9Pk5sRr7bWtRjz5pBBPID/+6bOrEkIOgmz3iOf5e7/avfNdj1yfinStvqwr3m9NPNqsI0V+y00zWiTk+8iTZozvvtc34cSzZa72jecavh6LePC999BGjJAfISnmHLt98MZru8/+4AO7u197x9XnI99+ZHfv1effVsNe+dOru48/8+6unNajeOmUq3hsub7ViAen9YpLpwQVbfoO3faIRwTzz/757bcQjfzrkc8xiGekeG+5aUw8y087wv2Wudp3n63h67GIZ+6Dzxpr3Tfec+ZDJl/8yceu6+rP7v/oilzUoktEJEKKcrpukRT5Gqk72Fij3Zx4VMz1ySeQfU5FPeKpAoV9za3G1dcjHr3a00lrrddxo5unt2kAU/yuqPUkKJtTchDPvZd+fXUaQzbrw/fnXnjx6gkKueqJkiM+Mq1TXl5HfjKrTjzERror261cr92f48paaaNvWTaOyS/ioJgjq2vimOOiORrHltqcL8kQvyin62w/y7XyFX2Vn7rnk3Vkm1kna45y1Rqkn5xnv7GttmU/zyGm2M1+Edc8D39zAUcefTku0cepa5GHTjs69SDHCSj2T8lFMkKHWtac1xRl1r4+CvHoNVx8Nabi3zt9TC38WMQjstRa9vE9AxOA0labrbfRvvTlr7zl6Aywsi5tgryx8tzoH8BUm4uddH3wzp2rj/xTvjQ3y2lMNsgnGzb7wRrjRpbsN558+voHDBQT1lXNwc6xWnwidlN+tGSJ0Ucfe+wqplqvYv2xf/1vdjwQEAPpz3lFb5SZ6ou+VnJZf1wTvkom9sdr+ZHzHcd1nXEon7Qn4hqY09NXrYG+vNYeNsFcXh/6on+6zvhXX7TJGqZaCKYiju8898TVazWdiDgVqS/q42Sk12+SiWO6bq0py615fxTiyYWa08fSU88S4oE0pmze1BNPBgjFIBdx3ecNlOdqo2jDx80CUOMmk568yZDr2aCoRBuaE/3Nfuke/fKD696cSo/6iBGEn9uleilIcW0tH1qy+Eaxjjlh3cS4pUNzmC/7VXyruZUcNmP+WRO+4g/9sc2+xLHWNXpzHuifsletoVprZbuFzRhLzavWVNnNNjQvY437uJ+qk4x0iWR4jcZrtvjqDWL64Qtfv5bLPuh+xNdq3tK+oxBPfjW1NfHwiiyeuqoA9oinmrNP32jyRzdN9KXSrT6BXG2UjdfVhqoKT6WfopCLRdSv67yeSn+eo3vk9JSqQtCzU+k4dF9e25S9lixxJE/KCUWJGMSxXBRlUwU0z5Ge6E+2j+4sl/2JOqbGkKswxdhUW2Gs5SN6WuN5rcjntpLLZNRas9ap/bUGLjm1xNMMRFMRTz4laT5yeY26X5qTStdI38URD6STT11VsG4q8bBZeHKirTYAmwMZ3cdYVICsNnNVFKSn6lcf9mLLqQD/uY/+xGv8QIf0xvFTuB5di3xtyebCppxkEmHtrdgqRnlOznW2zz3xzS02Y5yzr3GM6wpTjNG2bGcMg4G8FvS0xtGfMdaKX5TLa5QuvfpUi11azYtxq2KGbK+FfPhVm77beernn7t+1QYR6XSj12qRpEw8xd/GbHXi4Rd3+l5m6hUbALiJxMOGygDXfd60rFMtm0mbJG7iqkhUm7nSj87oi64pgNjHZzZ3pR/Z2EY5Nni0FWV71/gai0S8nordlO68tiWy+MbalBNiSAziWHXiiXaZE/Os8exrSy7qytfZ1zyu+wpTUQ4/WBNjus956PnYGscGmJMN6Seu2KzkNBbXoOvsF/NjK/3CVFyX5kacxevsS9TFdXwFx3c8IiYRDTJqeeVWfcej8bieOO9Q1xdz4plLOgp4j3g4PeVXh0uTVW2sSldrM0hWAKoAO6K7KhoVIKvNXOnHT+mQb8yLG0/9yFEE8KO3mdGHfrXauNxXsdu6L/s4ZT/HAVniQdy0PnKMfsYUQ8aYn9usj3HpUPxyHtCN3FTb0h3n9HyM64vz5EfGRM9eazyvNccRu62cIP/j//xfrnwaxVy1BmzNbSGaSDKRiNCXX7vRH9s1/Yp6W9cXQTxLSEcB6xEPP1AYeW3XSkDsH01+azNIlzZ1LL5sPPXFTauNI3saxwf0xk2k6/wEzaaLctl37Eab9EV9+BsLXlyH9OKf5k/9qk1yks+6mH+Mtlpzyw/iT+FHDh3EQnGHXMgFY8jGGKMntlGH+nWv10XSG+2Tn5jrqCdfYx9/8rjuWWdLJttEZ8YwuuXb1HpH1oqNqAc/WniS/xqLc/BJ+jSu/NCXc0X/kpbXbvF1mvTwui32i4xav2jTnDX9Gl3LasSjX5bF/60gXsfXWlUxP/SrNggi+sT1FGlUvsbAbnniARwCev5k4GujRRltIG2CSAJaBwUgy8Y1VpsaXzSGbNyk6KsKC3ORkU/87Y90oK/yj2KLDLqiHxQQ6Y/9zDlGi5+sWS1rrcaQI6+siXhqXcSC+YyxPt2jh3ZKRmPowjd0VTjBPjKVPexmfZqjPsbVslb0aY1xXPKykTEsefyr7KAv+tdaK+vH7hQ24xqkDzuxzfqkdykmIRS+35kikjmyrCPnM67jENerEc8hnBvVueTn1CO6e8QzosMyD/+I0LFwLA6FARX/TF6HsoVeyHOK8JA91TY/1Gzlp4kn/HV1DrqJx4UyY8L3p4kJTj2t08ch8iZb1QnsELYOpTOeng9lo9Jr4jHxlK8JKrC47zSLrvPyZl44gSx9nTUnjscq2HN87MkSr2Oc2M6GePjORu0+vzLL31Xto6uXeI+7kBsD62JAhHDIU4hOOfquZuvvRNbGCa/YtiDpyvezIJ5qYe5bd0M7no6nMWAMrIUBE8/Eq7a1gmw93rDGgDFgDDzEgInHxOPveIwBY8AY2BQDJh4DblPA+anv4VOfY+FYXCoGTDwmHhOPMWAMGAObYsDEY8BtCrhLfcLzun26MQYeYsDEY+Ix8RgDxoAxsCkGTDwG3KaA81Pfw6c+x8KxuFQMmHhMPCYeY8AYMAY2xYCJx4DbFHCX+oTndft0Yww8xICJx8Rj4jEGjAFjYFMMmHgMuE0B56e+h099joVjcakYMPGYeEw8xoAxYAxsigETjwG3KeAu9QnP6/bpxhh4iAETj4nHxGMMGAPGwKYYMPEYcJsCzk99D5/6HAvH4lIxYOIx8Zh4jAFjwBjYFAMmHgNuU8Bd6hOe1+3TjTHwEAMmHhOPiccYMAaMgU0xYOIx4DYFnJ/6Hj71ORaOxaViwMRj4jHxGAPGgDGwKQbOgni++q0nd7du3br+3P3Qh3cPXnt9USDX1HXMp5k//PmN3Sc++fju9u3bu2d/8ctFsdjH/1d+/8fdnbt3j2J7H7+XzlWM3//oo7sXX7q/Sqw//4UnrvKnPM71Sb4o9srB3LmW9ylsCwycDfG85/Z7dy//7sGqG+1Tn/7Mbh8S2yKBLRtrEg8k8sx3vz8UX2yL+JYUztaaTrl/K+IZIaRLjP8pY8O+vZ3MVyOefFKIJ5Af//TZoYK1NEGyPUU8IiSNR5/e+a5Hds/f+9WkXzeZeJbGspo3l3hUHC/tifuUiEc5JGfKRZVT9729GDom28VkNeIhaXrFpVOCijZ9h257xFPZl3898jHxvAlEitjIiUevmvTKSYW4ivu59p0a8SjO8ulYr1rPNc9e1zrktDnxqJjro9OGCj+nkH1ORUuIB/tTdnvEw0lq39dxeirVh6KtYpELBq9PKrlICMiho/W9g2x98M6dK5vSiXx8PSa99FdttMuGlK6og35azdFp6P5vfnv9HZR0V3MonNiWbvTEFmJErnXaiuuUbPY/kkeUrfTlXElfK9bR19Z1FWtiUtlirWqRy7rBQms8y/t+naLqOPbjeBTiEdnEV2Mijt7pYyqZxyIekZbWso/vWhdFLhYuFaJ4TxHJBY7irDbHKBbSPBaLGQWYAp4LPP3IZV3cj8jFAos+5kW7Govrr2Rkl/XHuZL95lNPX8eDubEAs/44D12KMf3EPc5FTi1r13X0l/6RVrYyuakv2kRPq5/x3OY45nHf94ukY7R+jI5CPLlQj5w+ppI/l3h4Hdg7qWx54slFi2JJcaYA5gKV5WKcpophVXg1typsUzZG7SGn9aiwx6Kd7bbs5fUQE/mM/qqVzRw3yeWiLP3yjZijK85v2cy+MbfXkoepeEQdVX7ieL5u6c9yvl+/uDqm7ZgehXhywd+CeCAbXu3FE1cLID3iac2b218Vk1zguK+eglv2pophqyBVvrSIINuNBTqPcZ+LPf2xbfmdfc73UQfXU3HL82W3IkV0qc1zGGv5zHirbcWsyoN0tPpb+kdz15rv/nbxdGyWx+ZiiCeDhNdkOi3lMe5NPG8Ca7R4tYoo8VQ7QjySEQG0Piry0jVS7CEeFezoh64hEdlDn4lneTHJ8fW9Y9nCwMUSjwLSI5beeCuoc/urp9hcMLm/5BNPjivEARHlcd0TtyniYb5aE4+LZYUj962LCxPPxP9y0COeNX/VlgklF1UKaJab2hBTJ4KsHz0jJIhsbqfsITty4mn5hg5aTmIVqSCjVjZb3/HE/hHiwSanJOknN/l7uuhD67qKGeuvct1aS0s/umSnJeP+dYuq49mP58USj16x6fuefX5Ozeu6/GOJucDLxZ5CFgtP1dezUxU15rQKUvYFefX3CmtVlJlPO0I8kh2xJznp0yklEoH8qH7VJp34wfrjvBHiwbdIWNKrn6bz83RsjLTEDN+4/+hjj5W/asPH6PeUHcn18jY132P9IuoYzY/RasRDIefL+9jG4l6dIg794wL0R5/yDxwq8FS+Rrk1Tzz5+wwKEfZGiYeCmvXpPhIZcvlJWHajXLYf9VbFrzUfPXMKoWSjvbwGdFKMkY2kgAwFHRm1ee3oyf3ooCUX6JKfiucS4pFOciF9kIR0VnmQfI5LSw4/M5ZYh9v5BdMxWydmqxHPMRMy9+fUo772iGdUT0+uV6x7809pnCKq4nhKfl2iLyJQiOwS1+81r0MSh4ijiWfiv0M38SwDrojUBW9Z7Nba5JzwfNo5bh7Wyue56THxmHhWP5nwiqd65XVuG+gU10P8W6/gTtFn+3RZBHk2xDP3+5sW0PN3VSPfBbV0jfaf06s21swTd+/7EuTPqeV1I98BtdpDnUYUc5P+ZRXym7Z/zoJ4blrQ7a+LgjFgDFwyBkw8E6/aLhkYXrsLozFgDBwKAyYeE8/q3/EcCqzW60JoDJwHBkw8Jh4TjzFgDBgDm2LAxGPAbQo4P7GexxOr8+g87oOBVYnnO889sbv7tXdcfz77gw/sHrzx2tsK271Xn9995NuPXMt9/Jl3717506tvk9PCvviTj13JqZ1aaLat+yn5qTFsspaoS37KX8Zy21rzlD3Gfnb/R1d6W/GobGsO85e0U2vN+qL9GJMsN3Wf86T4tXKbfdtqrdnu0rVOxcFjLtyXjIHViEebMxZdilTsU6AprmxmEZNkcrFF7ocvfP1qrFWcWnaWJLXyBT/wt6UXP3py1Xzmao365FhoDjKx+MqWCnfsq/RXfUvWGgvyknVWfvAQEvOLbxE7yC2xi74Y1yqvo3LVOtxnIjEGxjGwGvFUQVeR0MlGRUPjbOxYZNRPUaWoSP7x773vqp+xPAd76o8Fiv4lrYpR9Bcd8isWLfpjm9cax6auiQnkofX0bKGvFxvkqnbuWin8PAiQq6ybv9+Z88eLOYeteE/Fhv+/rPq7odG1jsrlNft+vOA4Vo6VMLAp8VC8KLKAUIVGT+4VgUwV15Y+9M5tcwHUfOxPnSyQ0fy5NrP8VHHNsvvYnbNWyFFzsNkiHhX++J9dZp+r++xLvmdOixj4S33Zrf4os9LHOmJeR+Xwx62LqDGwDAMHJR5t5Pj0XhUONvtTP//cW2RJKAVCcvTRok9P4aPfGTE3t7G4Mgax9Z7yVYSrkxJ65rQ5ZlNz8a9FAq25c9cq/eSRfLRszj3xKIex+MvnaC+uoZJlvHXiGV3rqBz23C4rOI6b4yYMHIx4KBKRMCAKFcxcwFrFBrmoB/BqTj4pUUAolMj2WuZhJ/qDD+rLehhjXh6fey89I77j7xLCYy4+T62V9bH2fD93fZIHG8qdPuhGF4SKf+rHbiYp5rTa0bWOyrXsuN8F1RgYx8BBiIfCkl+dQTycUHRPsmLxo08tBScWIcY1pyq8FK6oH58odmqjf7HwyFYcw4dcIOVHyweNoTPa7BVO2e4RT9Qb10hcei3zZau31t54z1ZvHF/ymskhsdM4uNFYTy/j6O+tdVQOvW7Hi4xj5VhlDKxOPBSMXEhkmLGKLHKBw1GKvsbpo1XRrXRhZ25Rlg0VumyrpW/KN3yc28p2FbuoBz8rIoxyU9fomFprFV/WvI/t7FcrvllONnuxyXN0P7LWOXKVDfe5uBoD4xhYlXgoIK3iEJ8qY5KmihljuUBqPvYywVQFM9prXbfmtQqe+ivia+kf6dc6W/HTfIrovoV/ZK3Y4tRRtdmPud/xaE2tPMZ4gZ1sD5nWdzwaH1nrHDlsuh0vNI6VYxUxsBrxUDymiqYMqwiogKnVPQUlvtqKDk4Rj+Ryoe7JR935uvIl+8ucfeygo2rzeqIMRNAqvlG2dz1nrVEX6275MPdXbehr5V+2wZbWH33huverttG1jsph162LqTGwDAOrEQ9FsXoqzkWFYo5sHqcYMZ5bSIukZ9utooj8VEvxiTazPc2XDclUY1P6q7Hsf7RNsaX4xrF4vcSP0bVGn8lNK8a9E0+11uw7NljfyKly6sQj/0fXOioXY+LrZcXHcbvcuK1GPAbR5YLIuXfujQFjYA4GTDz+T0LL11dzQGRZFx1jwBiYgwETj4nHxGMMGAPGwKYYMPEYcJsCbs5TkWX9FG0MnCcGTDwmHhOPMWAMGK4a8QkAAB1RSURBVAObYsDEY8BtCjg/wZ7nE6zz6rzOwYCJx8Rj4jEGjAFjYFMMmHgMuE0BN+epyLJ+ijYGzhMDJh4Tj4nHGDAGjIFNMWDiMeA2BZyfYM/zCdZ5dV7nYMDEY+Ix8RgDxoAxsCkGTDwG3KaAm/NUZFk/RRsD54kBE4+Jx8RjDBgDxsCmGDDxGHCbAs5PsOf5BOu8Oq9zMGDiMfGYeIwBY8AY2BQDJh4DblPAzXkqsqyfoo2B88SAicfEY+IxBowBY2BTDJh4DLhNAecn2PN8gnVendc5GDDxmHhMPMaAMWAMbIoBE48Btyng5jwVWdZP0cbAeWLAxGPiMfEYA8aAMbApBkw8BtymgPMT7Hk+wTqvzuscDJh4TDwmHmPAGDAGNsWAiceA2xRwc56KLOunaGPgPDFg4jHxmHiMAWPAGNgUA2dBPF/91pO7W7duXX/ufujDuwevvb4okGvqOubT2h/+/MbuE598fHf79u3ds7/45aJY7OP/K7//4+7O3btHsb2P30vnKsbvf/TR3Ysv3V8l1p//whNX+VMel/p0rHmKhXDHRzgQHuSP1kX/Vth85rvfv8IiPrTicoyYs0/kY8sv+hXXGEv6b2J7NsTzntvv3b38uwfd5M1J0qc+/ZndPiQ2x9basmsSz5zNoXVgW8R3EwvnklxsRTzHKI5z4gHp9AqpCFpELfk5+pfIngvxnNO+Wo148kkhnkB+/NNnDwou2Z5DPCIU+dcjlZtMPEs2aGvOXOJRcTyXJ7NWTHK/iefN7yJGc2/ieTNec/cW8opzxuBNul+NeFi0XnGpoKto03fodg7xiAQhRRPP2BeXgL33FKs8b1lQDo2rOfpNPA+JZ+SkuyVOzuXEAx45VW5xWsTm2u3mxCNC0uf5e7/avfNdj1yTwD6nolHiiaQ4cprpyejVnk5aPQLrJU1PL/qwGXkHHoHFMbuSi4SAHDpa3zvI1gfv3LmyKZ3Ix6IhvfRXbbTLGqUr6qCfliJw/ze/vf4OSrqrOWwwbEs3emILMSLXOm3FdUo2+y97xCvKVvpyrqSPudG30esq1sSkssVa1SI3auuQcr38Y5s1RYwzpjbjuMoX8jFXlRyYu/fSr69O4sQu5x/fn3vhxatcIlf5mLFZYaRaR8YI2I2+EBvZr2wTm1PKO7kYbY9CPDpxxFdjIg6RkMho1PEoN0o8Ua5HKtLfk+H0tI/vssPGiaAUEOM9YBMYYz8boAKo+qJsjFkEN6BnE8ifKEs/cnEsXo/ISQcbGn3Mi3Y1Fn2vZGSb9ce5kv3mU09fr4G5caOy/jgPXfKPfuIe5yKnlvXrOvpL/0grW7lwqS/aRE+rn/FjtDGn5Da25Dn6RvxjDOP4l778lbf8UIOYZ11V7PLc6B/2qnxJlx7GeCCTP5qb8yrfZQN/wUjOIWuMeZTsN558+vq7T7DJuqo52Ilt5VccP/XroxBPLtScfpaeeiKhtAKebfRIRXp6MmueeDK4MyBb4M5ycf3V5mIcgGuz0ae2KmxTNuLcKXvIUQQoAPRHuy17WT8xyWtAJ61s5qKgsbx5pV8FU/3MRY75LZvZtzh/6po8TMUjzo9xiv2ncj3qX2vdrXUQ91zEdT+Sf+U1xrjCmPS09mHPBtiJNkZiEf3gOq6xFY+58WvpOVb/UYgnv5rKpDA3GCPEk0kk31c2R2SqeXP7KoCy0QA89yOgxL42Qd5IjLWAW/nChsgFGV20rQLPuNpc7OMY1y2/s8/5nvmxnYpbnl8Vj6hL13kO4y2fGW+1rZhVeZCOVn9L/9b9o/614jjlb6VbfSIVta25VYwrTFf6p/AT7eX1VPqjPNfI6QSlh5vR/c08rQ1dN6m9COLRSSqfskZIZURmjWRPAZ4NNboBoj9TxTBvFOZVvoyCvNrg6KWVTIsMo0x8VZOvtS7JTq0PXcSNONKvlhiweaUvPxlH+TgHHxgf8QXZ2LZiVuVB81r9UefotXTl2BKLUR1ZbtQ/Yp/jiD7Gs39VYZbPUS6voYpxhemW71V/FbuIHfxvrY914gf+Sy9jUy3z8lqn5pzS2NkTD6/DdCqKgR8hlRGZqHPpdQXsXDC5rzZey+5UMWxtjMqXUZBXGzz7Jpke8Uz5HfW11hBliFu1ofN82Y3FI+rhOs+hf9Rn5GlbMavyoDmtfvQdux31rxVH+c9YzllPN7lWDmNBrmJcYbrSj87oi64zhvFZONAaKv1VbqIc+Iu2qjlz9LfmH7v/7ImHHwDwE+qqza/+SEqPeCC11nz09NoK8BnIbIBjEA+2extipPiOEE9eeyt+bNqeX1Xhkc7cz8aneFR2sam5jBOfXIwYn2qrmLH+KtfZ5yndxxirsFz5wRqrWGuNVSxHdJOLiIkqZlUeK/34Sb6ZF/VrfcixHvyochjjgT70q83EGeW5zvbovynt2RNPKxE9UtG8ngykll/jtWy2+jPgK9BWfS199FdFjbEWcLMvyKu/KgaMq82bKI5xrY3V0yPZEXuSqzaq/Kh+1Sad+MH62fDqV7x6Jx5848cG3OdfQ2Gn1xIzfOP+o489Vr7vx8fod8/GluNaR6/Yyh/iT6GOPuY1gn3lJupWrGRP48xHb4yPrmO+JEuco1z2HbvRJn1RH/5m7NBPbmVX86d+1SYZyWddrI9Wfo/sI+RPrV2NePQqqzpNqC/+Wq0q5lv8uCAHvvJjrsyaJx4BLX4iWOUXgI+bIPurezZe1MV1nItc3vh582ED++hSGzctcq35jM/ZMJKN9nQd14BONjiysSggQ6FBRm1eO3pyPzpocyzkp+IZf4aL7EhLLuQTxUQ6q7VKX45LS27E9toyU/mvckA+cs7yGpWTSneMHbpy/qQr68cXjRED8o8etbLJOC1zkVP8+dufbDv7R36zruhHxFfsZw7jlW/InHq7GvEcc6Ejv2pb4t8IOS3Rm+dUGyrL3JR7Nlq1YW7KGuzn2P9o4TgdJ04it0xgNy0XJp6J/w7dxLNsY4lIb/rGuGkb2f4uw+pNixunrZt82lHMTTwmnre9Sth3M/IqIL/e2Fev519GcXWe6zyzr07p1erSXJ0N8cTvl/b5lVn+rmofXaNJOadXbayZJ7P8zpvxc2553ch3AK32pj+1nnMOT3Ft2kvn8jB3FsRziiCxT/VTm+PiuBgDxoCJZ+JVmzeIN4gxYAwYA+tjwMRj4ln9Ox5v1PU3qmPqmJ4TBkw8Jh4TjzFgDBgDm2LAxGPAbQq4c3pq81p8CjEGlmFgVeL5znNP7O5+7R3Xn8/+4AO7B2+89rbCdu/V53cf+fYj13Iff+bdu1f+9Orb5JTUL/7kY1dyaqeSnG3rfkp+agybrGVKl/yW/5Kdkpuyx9jP7v/oSk8VD8VR8cQnWs1h/pJ267XmPGkdrdxm37Zaa7a7b16X5MVzlhU0x+1mxG014tHmjERDQY59AgXFlc1MQc3FFrkfvvD1q8LeKk4tO0sAWPmCH/ib9cYi1ZLJc/I9a5AufXIssjz3sqfCvaQgH2ut+E7LQ0jML75F7CC3JMboi3Gt8joqh+9ub0aRc55OL0+rEU+VXBUJnWxUNDTOxo5FRv0UXoqK5B//3vuu+hnLc7Cn/lig6F/SqhhFf9Ehv2LRop9iCDniP+MjLTGBPLSeylali9gssXuotfL3O3P+yC3nsBXvqdjov+jR38tUfzc0utZRuSoX7ju94uacnG5ONiUeCjVFFmCo0OjJvSIQiquKDvK0LX2Mz21zAdR87OeTBYShOcgsIYDs41RxzbL72D3UWlX4RQBz/suc7Eu+Z90tYuAvumW3+qPMSh+xi3kdlcMft6db2Jyb087NQYlHGzk+vVeFg83+1M8/9xZZgEOBkBx9tOjTiWP0OyPm5jYSCWMQW3WiiU/l+Lg18eT44nevPeRa5554lMNY/OV7jG1cSyXLeOvEM7rWUTnsuT3twub8nHZ+DkY8FIlIGBCFCnou1q1ig1zUA6g0J5+UKCCR8JCfapmHnegPPqhPOnr3U3Z6Yz0y0bjWrE/1WrCnX+PHXivYYB3EFd8hfHKhfmKuOZqPbK8dXeuoXM+ex0+74Dk/p5GfgxAPhSW/OoN4OKHEAhILfQQHBScWIcY1pyq+FK6oH58odmqjf7HwyFYcwwcKZG8c/9AZbfYKp3SPkibrrGKDD1WLX5rXW0tvvNI/pw9f8ppZG7HTOLjR2KgN9PfWOio3atdyp1HgnIfTzMPqxEPByIVEAGCsIotc4AAMRV/j9NFCZLkQYScSD3OmWtlQocu2or7KJj5CTFM2emOyXcWuNa9F2C15+k9hrfgS40tf1R5yrbI3EpPKL/edZnFzXk43L6sSDwWkVTjjU2UExVThZiyTgeZjLxNMRQ7RXuu6NS8WPIoTT+JVuw8BSX8rfpXf0bdqvNV3qLXO/Y5H/rXyGH0HO63Ytr7jkY6Rtc6Ri375+nSLm3NzurlZjXgoHr2iqSKgYq1WwKCgxFdbETBTxCO5XKh78lF3vq58yf7mObrHZqsoVnNafXk9LTn149sSu4da69xftRG7Vv61TrCl2FTx6P2qbXSto3KVD+473SLn3JxeblYjHhWF6ulffbmoUDCRz+MUI8ZzC2kBqGx7SSFGF8Un2sz2kKXF36V2s//RNsUWG3GsR/L412oPsdbeiadaa45vXmv1ajavaerEI9nRtY7KZfu+P73i5pycbk5WIx4n+XST7Nw4N8aAMXBKGDDx+D8JLV9fnRJI7YuLpjFwXhgw8Zh4TDzGgDFgDGyKAROPAbcp4Pzkel5Prs6n87kEAyYeE4+JxxgwBoyBTTFg4jHgNgXckqcjz/FTtTFwXhgw8Zh4TDzGgDFgDGyKAROPAbcp4Pzkel5Prs6n87kEAyYeE4+JxxgwBoyBTTFg4jHgNgXckqcjz/FTtTFwXhgw8Zh4TDzGgDFgDGyKAROPAbcp4Pzkel5Prs6n87kEAyYeE4+JxxgwBoyBTTFg4jHgNgXckqcjz/FTtTFwXhgw8Zh4TDzGgDFgDGyKAROPAbcp4Pzkel5Prs6n87kEAyYeE4+JxxgwBoyBTTFg4jHgNgXckqcjz/FTtTFwXhgw8Zh4TDzGgDFgDGyKAROPAbcp4Pzkel5Prs6n87kEAyYeE4+JxxgwBoyBTTFg4jHgNgXckqcjz/FTtTFwXhgw8Zh4TDzGgDFgDGyKAROPAbcp4Pzkel5Prs6n87kEAyYeE4+JxxgwBoyBTTFg4jHgNgXckqcjz/FTtTFwXhgw8Zh4TDzGgDFgDGyKgbMgnq9+68ndrVu3rj93P/Th3YPXXl8UyDV1HfMp7Q9/fmP3iU8+vrt9+/bu2V/8clEs9vH/ld//cXfn7t2j2N7H76VzFeP3P/ro7sWX7q8S689/4Ymr/CmPS3061jzFQrjjIxwID/JH66J/K2w+893vX2ERH1pxOUbM2SfyseUX/YprjCX9N7E9G+J5z+337l7+3YNu8uYk6VOf/sxuHxKbY2tt2TWJZ87m0DqwLeK7iYVzSS62Ip5jFMc58YB0eoVUBC2ilvwc/Utkz4V4zmlfrUY8+aQQTyA//umzBwWXbE8RjwhJ49Enrqd8u8nEs2SDtubMJR4Vx3N5MmvFJPebeN78DmI09yaeN+M1d28hrzhnDN6k+9WIh0XrFZdOCSra9B26HSUeyc3xxcQzf3NsWVDm5PLQsiaeh8QzctLdEifncuIBw5wqtzgtYnPtdnPiUTHX5/l7v9q9812PXJ9Cpk4evUUfi3g4Se37Ok5PL/qwGXkHHoHFMbuSi681kENH63sH2frgnTtXNqUT+Vg0pJf+qo12yZF0RR3001IE7v/mt9ffQUl3NYcNhm3pRk9seQpErnXaiuuUbPZf9ohXlK305VxJH3Ojb6PXVayJSWWLtapFbtRWlAMvrdhG2ZFr6RnxhzVFjEf9+BXXmfOFfMyV5LOc7pXDey/9+qpFZ5bD9+deePEql8hVPmZsVhiRf3kdGSNgN/pCbGS/so3OkTgTo1Nrj0I8es0VX42JOERCIqMlAToW8YgstZZ9fNd62TgRlAJivAdsAmPsZwNUAFVflI2xjeAG9GwC+RNl6UcujsXrETnpYEOjj3nRrsai75WMbLP+OFey33zq6es1MDduVNYf56FL/tFP3ONc5NSyfl1Hf+kfaWUrFy71RZvoafUzPrdlfax37nzJx5yS29iS56ib+McYxvEvffkrb/mhBjHPuqrY5bnRP+xV+ZIuPYzxQMbacl7lu2zgLzHMOWSNMY+S/caTT19/9wk2WVc1BzuxlXz2K46f+vVRiCcXak4/S089o8TD9zq0PXu9V21rnngyiDIgW+DOchFw1eZiHIDngqP7uFEkP2UDfWqn7CFHEaAA0B/ttuxl/cQkrwGdtLKZi4LG8uaVfhVM9TMXOea3bGbf4vypa/IwFY84P8Yp9i+9bq1nqb5R/1rrbtnFz4hN+kbyr7zGGFcYk57WPuzZADvRxkgsoh9cxzW24jE3fi09x+o/CvHkV1OHJp4quCIrEZDaalx9PeJpzZvbXwE0byruR0CJfW2CvJEYawG38oUNkQsyumhbBZ5xtbnYxzGuW35nn/M982M7Fbc8vyoeUZeu8xzGWz4z3mpbMavyIB2t/pb+Xj/xkd6e7Mj4qH+tOE7ZqHSrT6Qy5X8V4wrTlX7i09t3eT2V/mptyOkEpYebnh10ME9ro+8mtRdLPPwIIpNgTJ6JZ96PC6oNHuOpa8m0yBBZycRXNflaRV6yI8WewlEVJooFm/dSiId15rhy38sPearaqnhXcsSeXGYZxvGJtirMGS/kE52658RKX1W4W75X/erDp9iyHvznHru5xQ90SG+Wqe6Zl9dayZ5i38USj5IhYonfNeUEmXiOQzzarCPFb2RzjxAPxUGtCgD3GQ+6b9kc9TnrrIqiZKpiN9Wf9Y7eT8VnVEeUa/kdZXTdimMcy0W4p5u1KIexIFcxrgp3pR+d0RddZ3zm9VT6cwx0H+XAX7RVzcnzWjKn3H+xxMP3MyKXVoJ6xIOOqVNTS3fsrwCfgcwGqJ74oq54PVUMs37mVb5gu7chpuyhX0Ugb1rGaFu+MU7Lpu35VRUe6cj9bHy12MgtNjWXMeLTWxfysa1ixvqrXGefo64l1/jei+Go7go/1VzWWMVaa6xiOaK7Wk8VsyqPlX78JN/My/FCjvXgR5XDGA/0oV9tJs4oz3W2R/9NaS+SeHjNNnXaUQJ7xLPmr9oiQCvQVn09kFVFjTkt4FabT3PUXxUD9KnNmyiOca2N1dMj2RF7kqs2qvyoftUWiwXrZ8NLl+LVO/HgW3x1I73511CSG/kQM3zj/qOPPVa+78fH6PeInZYMuMJ+S260X3oillvziD+FOsrlNeKjchN1K1ayp3HmozfGR9cxX5IlzlEu+47daJO+qA9/M3boj7HV/Klftck3yWddrI9Wfo/sI+RPrV2NePiynl+MxTb+eqwq5of+cQH6o09TJx2SVPnKmNo1TzwCWvxEsMoWgI+bIPrCNRsv6uI6zkUub/y8+dCLfXSpjZsWudZ8xudsGMlGe7qOa0AnGxzZWBSQodAgozavHT25Hx20ORbyU/GMP8NFdqQlF/KJYiKd1VqlL8elJTdim7VkvI3MrWSm8l/lgHzknOU1KieV7hg7dOX8SVfWjy8aYx3kHz1qq7gwFznFn7/9ybazf+QXm+iKfpAT6Y/9zGG88g2ZU29XI55jLrT3c+qlvvWIZ6nePK/aUFnmptyz0aoNc1PWYD/HTmuO03HiJHLLBHbTcmHimXglYuJZtrFEpDd9Y9y0jWx/l2H1psWNE9JNPu0o5iYeE8/1q4a1NiGvAvLrjbX0W89lFFnn+a15Zl/t82r1VGJ6NsQTv7/Z51dm+buqfXSNJvmcXrWxZp7M8jtvxs+55XUj3wG02pv+1HrOOTzFtWkvncvD3FkQzymCxD699WnN8XA8jAFjAAyYeCZetREkt94wxoAxYAyshwETj4ln9e94vEHX26COpWN5jhgw8Zh4TDzGgDFgDGyKAROPAbcp4M7x6c1r8qnEGJiHgVWJ5zvPPbG7+7V3XH8++4MP7B688drbCtu9V5/ffeTbj1zLffyZd+9e+dOrb5NTMr/4k49dyamdSm62rfsp+akx+SzftZaWHvkrv1mv1qN1Tentjf3s/o+u9E3FI6+zF5eeTeLLOlrrlZ645im5KZvZf9ltrSH7pvhM6e6NZX2tNYzK9ex5fF4xcrwuJ16rEY82cSQailTsE7Aormx6inwutsj98IWvXxX4VnFq2VkKYvklEpFdtfgZ9UGc0SddLyUf1iAd+uRYYDvbqPxAttdWcSfm1ZqlT/ZHCKpnO45Xa8C3iB3kWr5FnfkafTGu1VpH5bJ+319OwXSu18n1asRTJYQirqKhcTa2CliUp/BSVCT/+Pfed/WEzView3z1xwJF/5JWxQhdU4WustlaW88P5sm2ZKU7Fkjm4w9y9Ot+CeG15ikHU/Z5ECBX+EHL3+/M+SO3HM+WD63YyLb+ix79vUz1d0Ojax2VY61u1ylCjuPlxXFT4mkVTxUaPUlT9CMQp4inpS/OX3qN7lxg8Sf3q2hpDVXRnuNDq7hWxRjSkt3sT89mLvaSZ23Sp/WgAzuag0zLngq/CGDOf5mTfcn3+NEiBv6iW3arP8qs9LGOuNZROfxxe3kF0zlfJ+cHJR5t5FiIq8LBZn/q5597iywJpkBIjj5a9PFaTEVEn2gT2blti3joj4UZUsAPycy1h3yOWeyPxExcFDf1V/Fhbm4jkTDGuqoTDeuTTey2iGfuiUdxjMVf/kR7+Ke2kmW8deIZXeuoHPbcrlOAHMfLjOPBiIciEQui+ngtlAtYq9ggF/UAVs1R0YoFmQKyL/lQiHOBpV9rwRa+xfXh49xWuirf1c86o53sw4i9PCfGnniz7t79iL0sI/95SFCLLeSIMXFVP35kkmJOqx1d66hcy477L7OAOu/L8n4Q4qGwUChJDgWTk4HuGYvFjz61FJxYhBjXHIiMPrUUrqgfn2LBy/5VOlpFsToZsD7Zly6KWbTZK5w94sknQ2xU8YnriddxjubFOBBv1t0bj3qXXONLJltySOw0Dm6I74g99GsdU2sZlRuxaZllxchxu5y4rU48FIxcSAQqxiqyyEUBEFIINU4fbS709GMnEg9joy06KMDMw5+KQCRbrZu5I63WWemQbtmMJCF9+JP97NmSHenLcWXdil0V36X2pvyJNqfklsZ3ZK2yOyo35aPHLqd4OtfLc70q8VBAqsKpJMWnypi0qWLGWC6Qmo+9TDBVwYz2Rq7RXRV0+ZIJoLW2EVtRRrqr+OHPWmttxSgWdwoxp46qzfGZ+x2P1t5aW4wL8c32kGl9x6PxkbXOkcOm2+WFx7G77NitRjwUj6poRpCpCKiAUUApKLmQM2eKeCSTC3VPHr29lvVUha4ay3709LfGp/TkscqPlt7cX8U95ybP0T3xreKi8bm/akNfK//SyTq1/sqn3q/aRtc6Klf54L7LLqTO/7z8r0Y8KgrVE7H6clGhwCGfxylGjOcW0iLZ2XarKCLfailw2Z7u8+vBLNsj3JZN9Wf/o/1cbLPs0rXKLoU22suxzX6Tm5bd3okn+y/b2SY28CvHPvuk+6kTz5y1LolJ5Y/75hUix+uy4rUa8Rg4lwUc59v5NgaMgaUYMPH4PwktX18tBZTnuRgZA8ZADwMmHhOPiccYMAaMgU0xYOIx4DYFXO9JyON+WjYGzh8DJh4Tj4nHGDAGjIFNMWDiMeA2BZyfZs//adY5do57GDDxmHhMPMaAMWAMbIoBE48Btyngek9CHvfTsjFw/hgw8Zh4TDzGgDFgDGyKAROPAbcp4Pw0e/5Ps86xc9zDgInHxGPiMQaMAWNgUwyYeAy4TQHXexLyuJ+WjYHzx4CJx8Rj4jEGjAFjYFMMvIV4/u7//f9d9dn5nyPgCDgCjoAjsFIE3kI8K+m0GkfAEXAEHAFHoBkBE08zNB5wBBwBR8AROEQE/h7FxFSW5n10tQAAAABJRU5ErkJggg==)"
      ]
    },
    {
      "cell_type": "markdown",
      "metadata": {
        "id": "L-3JYAZgWqvK",
        "colab_type": "text"
      },
      "source": [
        "![image.png](data:image/png;base64,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)"
      ]
    },
    {
      "cell_type": "markdown",
      "metadata": {
        "id": "kPmY2cGa8nxf",
        "colab_type": "text"
      },
      "source": [
        "Formatting Datetime"
      ]
    },
    {
      "cell_type": "code",
      "metadata": {
        "id": "3tOVY_7Hbmn_",
        "colab_type": "code",
        "colab": {}
      },
      "source": [
        "date = (YYYY,MM,DD)\n",
        "date.isoformat() #YYYY-MM-DD\n",
        "date.strftime(\"%Y%m%d\")\n",
        "\n",
        "dt = datetime.strptime(string,format) #converts string to datetime\n",
        "dt = datetime(YYYY,MM,DD,HH,MIN,SEC)\n",
        "dt = datetime.fromtimestamp(ts) #read unix datetime\n",
        "\n",
        "td = timedelta()"
      ],
      "execution_count": null,
      "outputs": []
    },
    {
      "cell_type": "code",
      "metadata": {
        "id": "FOjjnkA9RWNC",
        "colab_type": "code",
        "colab": {}
      },
      "source": [
        "# Iterate over the dates_list \n",
        "for date_str in dates_list:\n",
        "    # Convert each date to a datetime object: date_dt\n",
        "    date_dt = datetime.strptime(date_str, '%m/%d/%Y')\n",
        "    \n",
        "    # Print each date_dt\n",
        "    print(date_dt)"
      ],
      "execution_count": null,
      "outputs": []
    },
    {
      "cell_type": "code",
      "metadata": {
        "id": "eBBkb3i31tZA",
        "colab_type": "code",
        "colab": {}
      },
      "source": [
        "# Assign date to get_date\n",
        "get_date = datetime.now()\n",
        "\n",
        "# Add named placeholders with format specifiers\n",
        "message = \"Good morning. Today is {today:%B %d, %Y}. It's {today:%H:%M} ... time to work!\"\n",
        "\n",
        "# Format date\n",
        "print(message.format(today=get_date))"
      ],
      "execution_count": null,
      "outputs": []
    },
    {
      "cell_type": "code",
      "metadata": {
        "id": "Kh1VacYWSoOC",
        "colab_type": "code",
        "colab": {}
      },
      "source": [
        "# Loop over the first 10 items of the datetimes_list\n",
        "for item in datetimes_list[:10]:\n",
        "    # Print out the record as a string in the format of 'MM/DD/YYYY'\n",
        "    print(item.strftime('%m/%d/%Y'))\n",
        "    \n",
        "    # Print out the record as an ISO standard string\n",
        "    print(item.isoformat())"
      ],
      "execution_count": null,
      "outputs": []
    },
    {
      "cell_type": "markdown",
      "metadata": {
        "id": "mzcSzN6fS2rC",
        "colab_type": "text"
      },
      "source": [
        "![image.png](data:image/png;base64,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)"
      ]
    },
    {
      "cell_type": "markdown",
      "metadata": {
        "id": "tuDCEg6FTq5J",
        "colab_type": "text"
      },
      "source": [
        "Aware(has timezone) vs Naive(no timezone) datetime"
      ]
    },
    {
      "cell_type": "markdown",
      "metadata": {
        "id": "Gdu9aPVF801h",
        "colab_type": "text"
      },
      "source": [
        "Using Pendulum"
      ]
    },
    {
      "cell_type": "code",
      "metadata": {
        "id": "QfKo4s5paQ7m",
        "colab_type": "code",
        "colab": {
          "base_uri": "https://localhost:8080/",
          "height": 219
        },
        "outputId": "49cfe320-35e3-4c51-9db7-3daf6b230d52"
      },
      "source": [
        "pip install pendulum"
      ],
      "execution_count": null,
      "outputs": [
        {
          "output_type": "stream",
          "text": [
            "Collecting pendulum\n",
            "\u001b[?25l  Downloading https://files.pythonhosted.org/packages/fc/e8/2eb9f8a5ce6511f2f1d44f621171388765f34fe1d5fa74d50368aa620bbf/pendulum-2.1.0-cp36-cp36m-manylinux1_x86_64.whl (152kB)\n",
            "\u001b[K     |████████████████████████████████| 153kB 2.9MB/s \n",
            "\u001b[?25hCollecting pytzdata>=2018.3\n",
            "\u001b[?25l  Downloading https://files.pythonhosted.org/packages/7f/f9/cdd39831b0465285c02ed90cfbf0db25bb951cb2a35ded0e69222375bea3/pytzdata-2019.3-py2.py3-none-any.whl (489kB)\n",
            "\u001b[K     |████████████████████████████████| 491kB 12.0MB/s \n",
            "\u001b[?25hRequirement already satisfied: python-dateutil<3.0,>=2.6 in /usr/local/lib/python3.6/dist-packages (from pendulum) (2.8.1)\n",
            "Requirement already satisfied: six>=1.5 in /usr/local/lib/python3.6/dist-packages (from python-dateutil<3.0,>=2.6->pendulum) (1.12.0)\n",
            "Installing collected packages: pytzdata, pendulum\n",
            "Successfully installed pendulum-2.1.0 pytzdata-2019.3\n"
          ],
          "name": "stdout"
        }
      ]
    },
    {
      "cell_type": "code",
      "metadata": {
        "id": "1SENdupuaPTT",
        "colab_type": "code",
        "colab": {
          "base_uri": "https://localhost:8080/",
          "height": 35
        },
        "outputId": "37f6a31a-206e-44e6-950f-46515035fe1f"
      },
      "source": [
        "# Import the pendulum module\n",
        "import pendulum\n",
        "\n",
        "# Create a now datetime for Tokyo: tokyo_dt\n",
        "tokyo_dt = pendulum.now('Asia/Tokyo')\n",
        "\n",
        "# Covert the tokyo_dt to Los Angeles: la_dt\n",
        "la_dt = tokyo_dt.in_timezone('America/Los_Angeles')\n",
        "\n",
        "# Print the ISO 8601 string of la_dt\n",
        "print(la_dt.to_iso8601_string())"
      ],
      "execution_count": null,
      "outputs": [
        {
          "output_type": "stream",
          "text": [
            "2020-06-19T09:28:47.472436-07:00\n"
          ],
          "name": "stdout"
        }
      ]
    },
    {
      "cell_type": "markdown",
      "metadata": {
        "id": "Sq4C6JVOZJ4C",
        "colab_type": "text"
      },
      "source": [
        "![image.png](data:image/png;base64,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)"
      ]
    },
    {
      "cell_type": "markdown",
      "metadata": {
        "id": "CQG3Z_ipZRZi",
        "colab_type": "text"
      },
      "source": [
        "![image.png](data:image/png;base64,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)"
      ]
    },
    {
      "cell_type": "markdown",
      "metadata": {
        "id": "ju_2XZGKZfCl",
        "colab_type": "text"
      },
      "source": [
        "![image.png](data:image/png;base64,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)"
      ]
    },
    {
      "cell_type": "markdown",
      "metadata": {
        "id": "0vkZvLeNj7Sa",
        "colab_type": "text"
      },
      "source": [
        "Working with Pandas"
      ]
    },
    {
      "cell_type": "code",
      "metadata": {
        "id": "am4kxknyj8Yl",
        "colab_type": "code",
        "colab": {}
      },
      "source": [
        "# Localize the Start date column to America/New_York\n",
        "# sets a timezone\n",
        "rides['Start date'] = rides['Start date'].dt.tz_localize('America/New_York', \n",
        "                                \t\t\t\t\t\t ambiguous='NaT')\n",
        "\n",
        "# Convert the Start date column to Europe/London\n",
        "# converts a timezone\n",
        "rides['Start date'] = rides['Start date'].dt.tz_convert('Europe/London')\n",
        "\n",
        "# Add a column for the weekday of the start of the ride\n",
        "rides['Ride start weekday'] = rides['Start date'].dt.weekday_name\n",
        "\n",
        "# Move from a timedelta to a number of seconds, which is easier to work with\n",
        "rides['Time since'] = rides['Time since'].dt.total_seconds()"
      ],
      "execution_count": null,
      "outputs": []
    },
    {
      "cell_type": "markdown",
      "metadata": {
        "id": "PTANS-IYvshX",
        "colab_type": "text"
      },
      "source": [
        "# Pandas"
      ]
    },
    {
      "cell_type": "code",
      "metadata": {
        "id": "kKMP24cq3Dej",
        "colab_type": "code",
        "colab": {}
      },
      "source": [
        "df = pd.DataFrame(dict)\n",
        "df = pd.read_csv('csv')\n",
        "df.to_csv('title')"
      ],
      "execution_count": null,
      "outputs": []
    },
    {
      "cell_type": "code",
      "metadata": {
        "id": "yTjnBms_vvEq",
        "colab_type": "code",
        "colab": {}
      },
      "source": [
        "df.info()\n",
        "df.describe()\n",
        "df.head()\n",
        "\n",
        "df.shape\n",
        "df.columns\n",
        "df.index\n",
        "df.values #numpy array"
      ],
      "execution_count": null,
      "outputs": []
    },
    {
      "cell_type": "code",
      "metadata": {
        "id": "TZXCXt3hwBKy",
        "colab_type": "code",
        "colab": {}
      },
      "source": [
        "df.sort_values(['col','col2'],ascending=[True,False])\n",
        "df.col\n",
        "df[['col','col2']]\n",
        "df[condition & condition2]\n",
        "df[condition | condition2]\n",
        "df['col'].isin(['condition','condition2'])"
      ],
      "execution_count": null,
      "outputs": []
    },
    {
      "cell_type": "code",
      "metadata": {
        "id": "IPOHwk_h2VJW",
        "colab_type": "code",
        "colab": {}
      },
      "source": [
        "df.min()\n",
        "df.max()\n",
        "df.var()\n",
        "df.std()\n",
        "df.sum()\n",
        "df.cumsum(), cummax(), cummin(), cumprod()\n",
        "df.mean()\n",
        "df.mode()\n",
        "df.median()"
      ],
      "execution_count": null,
      "outputs": []
    },
    {
      "cell_type": "code",
      "metadata": {
        "id": "uurgmyiW578x",
        "colab_type": "code",
        "colab": {}
      },
      "source": [
        "df.drop_duplicates(subset='col')\n",
        "df.value_counts(sort=True,normalize=True)"
      ],
      "execution_count": null,
      "outputs": []
    },
    {
      "cell_type": "markdown",
      "metadata": {
        "id": "iDA8aRGS0YCd",
        "colab_type": "text"
      },
      "source": [
        "GroupBy/Pivot"
      ]
    },
    {
      "cell_type": "code",
      "metadata": {
        "id": "y1pGuPgt_M_E",
        "colab_type": "code",
        "colab": {}
      },
      "source": [
        "df.groupby('col')['col2'].sum()\n",
        "df.groupby(\"col\")[[\"col2\", \"col3\"]].agg([np.min, np.max, np.mean, np.median])"
      ],
      "execution_count": null,
      "outputs": []
    },
    {
      "cell_type": "code",
      "metadata": {
        "id": "NwJ3d6XIBbbX",
        "colab_type": "code",
        "colab": {}
      },
      "source": [
        "df.pivot_table(index='col',values='col2',columns='col3',aggfunc=[np.mean,np.median],fill_value=0,margins=True)"
      ],
      "execution_count": null,
      "outputs": []
    },
    {
      "cell_type": "markdown",
      "metadata": {
        "id": "Qkqdp1Pk0WPA",
        "colab_type": "text"
      },
      "source": [
        "Index"
      ]
    },
    {
      "cell_type": "code",
      "metadata": {
        "id": "-akVLPKgER3S",
        "colab_type": "code",
        "colab": {}
      },
      "source": [
        "df.set_index('col')\n",
        "df.reset_index(drop=True)\n",
        "df.sort_index(level=['col','col2'],ascending=[True,False])"
      ],
      "execution_count": null,
      "outputs": []
    },
    {
      "cell_type": "markdown",
      "metadata": {
        "id": "vVPa7Uj80wgM",
        "colab_type": "text"
      },
      "source": [
        "Missing Value"
      ]
    },
    {
      "cell_type": "code",
      "metadata": {
        "id": "pP-_oAeo0btc",
        "colab_type": "code",
        "colab": {}
      },
      "source": [
        "# Check individual values for missing values\n",
        "print(df.isna())\n",
        "# Check each column for missing values\n",
        "print(df.isna().any())\n",
        "# Bar plot of missing values by variable\n",
        "df.isna().sum().plot(kind=\"bar\")\n",
        "# Remove rows with missing values\n",
        "df.dropna()\n",
        "# Fill in missing values with 0\n",
        "df.fillna(0)"
      ],
      "execution_count": null,
      "outputs": []
    },
    {
      "cell_type": "markdown",
      "metadata": {
        "id": "Y6PWOzrR_rdk",
        "colab_type": "text"
      },
      "source": [
        "# Numpy"
      ]
    },
    {
      "cell_type": "code",
      "metadata": {
        "id": "SgWTDM6y_s6S",
        "colab_type": "code",
        "colab": {}
      },
      "source": [
        "nparray = np.array(list)"
      ],
      "execution_count": null,
      "outputs": []
    },
    {
      "cell_type": "markdown",
      "metadata": {
        "id": "sn343rg0lpVE",
        "colab_type": "text"
      },
      "source": [
        "# Regular Expression"
      ]
    },
    {
      "cell_type": "markdown",
      "metadata": {
        "id": "1sDcJVtanPxg",
        "colab_type": "text"
      },
      "source": [
        "working with strings"
      ]
    },
    {
      "cell_type": "code",
      "metadata": {
        "id": "xGfB4ViclqwH",
        "colab_type": "code",
        "colab": {}
      },
      "source": [
        ".upper()\n",
        ".lower()\n",
        ".capitalize()\n",
        ".split('$')\n",
        ".rsplit(sep = ' ', maxsplit =2) # split starts from right\n",
        ".splitlines()\n",
        "' '.join(list)\n",
        ".strip()\n",
        ".lstrip()\n",
        ".rstrip()"
      ],
      "execution_count": null,
      "outputs": []
    },
    {
      "cell_type": "code",
      "metadata": {
        "id": "eyxTxYtFrFqx",
        "colab_type": "code",
        "colab": {}
      },
      "source": [
        "string.find('Waldo') #-1 means not found\n",
        "string.index('Waldo') #gives an error instead of find\n",
        "string.count('Waldo')\n",
        "string.replace(old,new,count)"
      ],
      "execution_count": null,
      "outputs": []
    },
    {
      "cell_type": "code",
      "metadata": {
        "id": "nyksgm432xZm",
        "colab_type": "code",
        "colab": {}
      },
      "source": [
        "# Assign the substrings to the variables\n",
        "first_pos = wikipedia_article[3:19].lower()\n",
        "second_pos = wikipedia_article[21:44].lower()\n",
        "\n",
        "# Define string with placeholders \n",
        "my_list.append(\"The tool {} is used in {}\")\n",
        "\n",
        "# Define string with rearranged placeholders\n",
        "my_list.append(\"The tool {1} is used in {0}\")\n",
        "\n",
        "# Use format to print strings\n",
        "for my_string in my_list:\n",
        "  \tprint(my_string.format(first_pos, second_pos))"
      ],
      "execution_count": null,
      "outputs": []
    },
    {
      "cell_type": "code",
      "metadata": {
        "id": "AzT80mF02rT0",
        "colab_type": "code",
        "colab": {}
      },
      "source": [
        "# Create a dictionary\n",
        "plan = {\n",
        "  \t\t\"field\": courses[0],\n",
        "        \"tool\": courses[1]\n",
        "        }\n",
        "\n",
        "# Complete the placeholders accessing elements of field and tool keys\n",
        "my_message = \"If you are interested in {data[field]}, you can take the course related to {data[tool]}\"\n",
        "\n",
        "# Use dictionary to replace placeholders\n",
        "print(my_message.format(data=plan))"
      ],
      "execution_count": null,
      "outputs": []
    },
    {
      "cell_type": "code",
      "metadata": {
        "id": "RflvPwrd4Emd",
        "colab_type": "code",
        "colab": {
          "base_uri": "https://localhost:8080/",
          "height": 34
        },
        "outputId": "b44c10aa-d1dc-4c96-983f-d2315156f88e"
      },
      "source": [
        "# Import datetime \n",
        "from datetime import datetime\n",
        "\n",
        "# Assign date to get_date\n",
        "get_date = datetime.now()\n",
        "\n",
        "# Add named placeholders with format specifiers\n",
        "message = \"Good morning. Today is {today:%B %d, %Y}. It's {today:%H:%M} ... time to work!\"\n",
        "\n",
        "# Format date\n",
        "print(message.format(today=get_date))"
      ],
      "execution_count": null,
      "outputs": [
        {
          "output_type": "stream",
          "text": [
            "Good morning. Today is June 28, 2020. It's 07:42 ... time to work!\n"
          ],
          "name": "stdout"
        }
      ]
    },
    {
      "cell_type": "markdown",
      "metadata": {
        "id": "AET_LXKZYnux",
        "colab_type": "text"
      },
      "source": [
        "# Object Oriented Programming"
      ]
    },
    {
      "cell_type": "code",
      "metadata": {
        "id": "Ay-nEM6KY1Ar",
        "colab_type": "code",
        "colab": {}
      },
      "source": [
        "class Class: # from class (script) import Class (class)\n",
        "  def __init__(self,attribute):\n",
        "  def function(self,value):"
      ],
      "execution_count": null,
      "outputs": []
    },
    {
      "cell_type": "code",
      "metadata": {
        "id": "N25ZBoLPFL4g",
        "colab_type": "code",
        "colab": {}
      },
      "source": [
        "class Pants:\n",
        "    \"\"\"The Pants class represents an article of clothing sold in a store\n",
        "    \"\"\"\n",
        "\n",
        "    def __init__(self, color, waist_size, length, price): # __ means magic method\n",
        "        \"\"\"Method for initializing a Pants object\n",
        "\n",
        "        Args: \n",
        "            color (str)\n",
        "            waist_size (int)\n",
        "            length (int)\n",
        "            price (float)\n",
        "\n",
        "        Attributes:\n",
        "            color (str): color of a pants object\n",
        "            waist_size (str): waist size of a pants object\n",
        "            length (str): length of a pants object\n",
        "            price (float): price of a pants object\n",
        "        \"\"\"\n",
        "\n",
        "        self.color = color\n",
        "        self.waist_size = waist_size\n",
        "        self.length = length\n",
        "        self.price = price\n",
        "\n",
        "    def change_price(self, new_price):\n",
        "        \"\"\"The change_price method changes the price attribute of a pants object\n",
        "\n",
        "        Args: \n",
        "            new_price (float): the new price of the pants object\n",
        "\n",
        "        Returns: None\n",
        "\n",
        "        \"\"\"\n",
        "        self.price = new_price\n",
        "\n",
        "    def discount(self, percentage):\n",
        "        \"\"\"The discount method outputs a discounted price of a pants object\n",
        "\n",
        "        Args:\n",
        "            percentage (float): a decimal representing the amount to discount\n",
        "\n",
        "        Returns:\n",
        "            float: the discounted price\n",
        "        \"\"\"\n",
        "        return self.price * (1 - percentage)"
      ],
      "execution_count": null,
      "outputs": []
    },
    {
      "cell_type": "markdown",
      "metadata": {
        "id": "DxFBbriVAka6",
        "colab_type": "text"
      },
      "source": [
        "Changing values directly prevents flexibility because the value is premanently changed. Changing via a method retains the original attribute"
      ]
    },
    {
      "cell_type": "markdown",
      "metadata": {
        "id": "ylKx0PbKBmK6",
        "colab_type": "text"
      },
      "source": [
        "Following the Python convention, the underscore in front of price is to let a programmer know that price should only be accessed with get and set methods rather than accessing price directly with shirt_one._price"
      ]
    },
    {
      "cell_type": "markdown",
      "metadata": {
        "id": "gdnIUiuO5Fmp",
        "colab_type": "text"
      },
      "source": [
        "# Pythonic Code"
      ]
    },
    {
      "cell_type": "markdown",
      "metadata": {
        "id": "wqsStIHJ5OaY",
        "colab_type": "text"
      },
      "source": [
        "Pythonic Code is efficient code"
      ]
    },
    {
      "cell_type": "markdown",
      "metadata": {
        "id": "Alu236_xFa-Q",
        "colab_type": "text"
      },
      "source": [
        "Timing"
      ]
    },
    {
      "cell_type": "code",
      "metadata": {
        "id": "73sA6aEkFbwT",
        "colab_type": "code",
        "colab": {}
      },
      "source": [
        "#single line\n",
        "%timeit -r5 -n2\n",
        "\n",
        "#multiple lines\n",
        "%%timeit -r5 -n2\n",
        "\n",
        "#line_profiler\n",
        "#memory_profiler"
      ],
      "execution_count": null,
      "outputs": []
    },
    {
      "cell_type": "markdown",
      "metadata": {
        "id": "MTCxy7Pg-Hoy",
        "colab_type": "text"
      },
      "source": [
        "Numpy arrays are homogenous (i.e same datatype) and hence require less overhead needed for data type checking\n",
        "\n",
        "Numpy arrays are vectorized automatically (broadcasting)\n",
        "\n",
        "Numpy arrays are slightly better at indexing"
      ]
    },
    {
      "cell_type": "code",
      "metadata": {
        "id": "rDPLM04V6-9a",
        "colab_type": "code",
        "colab": {
          "base_uri": "https://localhost:8080/",
          "height": 35
        },
        "outputId": "32369cc6-7243-4964-aaee-c7d1eba92c80"
      },
      "source": [
        "range(2,10,3)"
      ],
      "execution_count": null,
      "outputs": [
        {
          "output_type": "execute_result",
          "data": {
            "text/plain": [
              "range(2, 10, 3)"
            ]
          },
          "metadata": {
            "tags": []
          },
          "execution_count": 16
        }
      ]
    },
    {
      "cell_type": "code",
      "metadata": {
        "id": "nVvQLb148IIq",
        "colab_type": "code",
        "colab": {
          "base_uri": "https://localhost:8080/",
          "height": 35
        },
        "outputId": "274b8887-9cd8-47e3-e03f-17cba9d9c2a7"
      },
      "source": [
        "[*range(1,12,2)] # * will unpack the range"
      ],
      "execution_count": null,
      "outputs": [
        {
          "output_type": "execute_result",
          "data": {
            "text/plain": [
              "[1, 3, 5, 7, 9, 11]"
            ]
          },
          "metadata": {
            "tags": []
          },
          "execution_count": 15
        }
      ]
    },
    {
      "cell_type": "code",
      "metadata": {
        "id": "5n89ey1w7HO3",
        "colab_type": "code",
        "colab": {}
      },
      "source": [
        "listofitems = ['a','b','c']"
      ],
      "execution_count": null,
      "outputs": []
    },
    {
      "cell_type": "code",
      "metadata": {
        "id": "gFWAtnvE6_qD",
        "colab_type": "code",
        "colab": {
          "base_uri": "https://localhost:8080/",
          "height": 35
        },
        "outputId": "42b257fa-2807-41ba-8b1c-f355ecf913fc"
      },
      "source": [
        "indexed_list = enumerate(listofitems, start=1)\n",
        "print(list(indexed_list))"
      ],
      "execution_count": null,
      "outputs": [
        {
          "output_type": "stream",
          "text": [
            "[(1, 'a'), (2, 'b'), (3, 'c')]\n"
          ],
          "name": "stdout"
        }
      ]
    },
    {
      "cell_type": "code",
      "metadata": {
        "id": "q3XgypdR9LY7",
        "colab_type": "code",
        "colab": {}
      },
      "source": [
        "# Rewrite the for loop to use enumerate\n",
        "indexed_names = []\n",
        "for i,name in enumerate(names):\n",
        "    index_name = (i,name)\n",
        "    indexed_names.append(index_name) \n",
        "print(indexed_names)\n",
        "\n",
        "# Rewrite the above for loop using list comprehension\n",
        "indexed_names_comp = [(i,name) for i,name in enumerate(names)]\n",
        "print(indexed_names_comp)\n",
        "\n",
        "# Unpack an enumerate object with a starting index of one\n",
        "indexed_names_unpack = [*enumerate(names, 1)]\n",
        "print(indexed_names_unpack)"
      ],
      "execution_count": null,
      "outputs": []
    },
    {
      "cell_type": "code",
      "metadata": {
        "id": "xyXo2zfK7tDY",
        "colab_type": "code",
        "colab": {}
      },
      "source": [
        "listofnumbers = [1,2,3]"
      ],
      "execution_count": null,
      "outputs": []
    },
    {
      "cell_type": "code",
      "metadata": {
        "id": "tW3KCkbF7dNO",
        "colab_type": "code",
        "colab": {
          "base_uri": "https://localhost:8080/",
          "height": 35
        },
        "outputId": "2303cf52-98c2-46c0-d68f-f94dc6844964"
      },
      "source": [
        "output = map(function, listofnumbers)\n",
        "output = map(lambda x: x**2, listofnumbers)\n",
        "print(list(output))"
      ],
      "execution_count": null,
      "outputs": [
        {
          "output_type": "stream",
          "text": [
            "[1, 4, 9]\n"
          ],
          "name": "stdout"
        }
      ]
    },
    {
      "cell_type": "markdown",
      "metadata": {
        "id": "sEIbJjQKJhdi",
        "colab_type": "text"
      },
      "source": [
        "Alternative libraries"
      ]
    },
    {
      "cell_type": "code",
      "metadata": {
        "id": "8HaFev1wJg3w",
        "colab_type": "code",
        "colab": {}
      },
      "source": [
        "full_list = [*zip(list1, list2)]"
      ],
      "execution_count": null,
      "outputs": []
    },
    {
      "cell_type": "code",
      "metadata": {
        "id": "m21YolQJK98e",
        "colab_type": "code",
        "colab": {}
      },
      "source": [
        "# Import combinations from itertools\n",
        "from itertools import combinations\n",
        "\n",
        "# Create a combination object with pairs of Pokémon\n",
        "combos_obj = combinations(pokemon, 2)\n",
        "print(type(combos_obj), '\\n')\n",
        "\n",
        "# Convert combos_obj to a list by unpacking\n",
        "combos_2 = [*combos_obj]\n",
        "print(combos_2, '\\n')\n",
        "\n",
        "# Collect all possible combinations of 4 Pokémon directly into a list\n",
        "combos_4 = [*combinations(pokemon, 4)]\n",
        "print(combos_4)"
      ],
      "execution_count": null,
      "outputs": []
    },
    {
      "cell_type": "code",
      "metadata": {
        "id": "NXJWXy4hMNng",
        "colab_type": "code",
        "colab": {}
      },
      "source": [
        "# Convert both lists to sets\n",
        "ash_set = set(ash_pokedex)\n",
        "misty_set = set(misty_pokedex)\n",
        "\n",
        "# Find the Pokémon that exist in both sets\n",
        "both = ash_set.intersection(misty_set)\n",
        "print(both)\n",
        "\n",
        "# Find the Pokémon that Ash has and Misty does not have\n",
        "ash_only = ash_set.difference(misty_set)\n",
        "print(ash_only)\n",
        "\n",
        "# Find the Pokémon that are in only one set (not both)\n",
        "unique_to_set = ash_set.symmetric_difference(misty_set)\n",
        "print(unique_to_set)\n",
        "\n",
        "# Convert Brock's Pokédex to a set\n",
        "brock_pokedex_set = set(brock_pokedex)\n",
        "print(brock_pokedex_set)\n",
        "\n",
        "# Check if Psyduck is in Ash's list and Brock's set\n",
        "print('Psyduck' in ash_pokedex)\n",
        "print('Psyduck' in brock_pokedex_set)\n",
        "\n",
        "# Check if Machop is in Ash's list and Brock's set\n",
        "print('Machop' in ash_pokedex)\n",
        "print('Machop' in brock_pokedex_set)"
      ],
      "execution_count": null,
      "outputs": []
    },
    {
      "cell_type": "markdown",
      "metadata": {
        "id": "vaYHkaxMX51v",
        "colab_type": "text"
      },
      "source": [
        "Pandas"
      ]
    },
    {
      "cell_type": "code",
      "metadata": {
        "id": "3cENo3iDX7Qq",
        "colab_type": "code",
        "colab": {}
      },
      "source": [
        "for i, row in df.iterrows():\n",
        "for tuple in df.iterrows():\n",
        "for namedtuple in df.itertuples(): #faster than iterrows\n",
        "result = df.apply(lambda row: function(row['col']), axis=1) #axis=1 means row in apply\n",
        "# use numpy arrays to speed up calculations\n",
        "\n",
        "# numpy > iter > apply"
      ],
      "execution_count": null,
      "outputs": []
    }
  ]
}