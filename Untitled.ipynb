{
 "cells": [
  {
   "cell_type": "code",
   "execution_count": 6,
   "metadata": {},
   "outputs": [],
   "source": [
    "# import packages\n",
    "import requests\n",
    "import pandas as pd\n",
    "import numpy as np\n",
    "import json"
   ]
  },
  {
   "cell_type": "markdown",
   "metadata": {},
   "source": [
    "We define a function to obtain resale price data from data.gov.sg"
   ]
  },
  {
   "cell_type": "code",
   "execution_count": 8,
   "metadata": {},
   "outputs": [],
   "source": [
    "def get_resale_price():\n",
    "    # data.gov.sg api server\n",
    "    SERVER = 'https://data.gov.sg/api/action/datastore_search?resource_id='\n",
    "\n",
    "    # resources ID for the various HDB resale data ranges based on sale date\n",
    "    RESOURCES = [\n",
    "                # 2017 onwards\n",
    "                '42ff9cfe-abe5-4b54-beda-c88f9bb438ee',\n",
    "                # 2015 - 2016\n",
    "                '1b702208-44bf-4829-b620-4615ee19b57c',\n",
    "                # 2012-2014\n",
    "                '83b2fc37-ce8c-4df4-968b-370fd818138b',\n",
    "                # 2000-2012\n",
    "                '8c00bf08-9124-479e-aeca-7cc411d884c4',\n",
    "                # 1990-1999\n",
    "                'adbbddd3-30e2-445f-a123-29bee150a6fe'\n",
    "                ] \n",
    "\n",
    "    # limit needed if not default return is 100 records\n",
    "    # there are approximately 50,000 - 350,000 maximum records per category\n",
    "    LIMIT = '&limit=1000000'\n",
    "\n",
    "    resalepricedf = pd.DataFrame()\n",
    "\n",
    "    # for loop to pull and append data for HDB resale price information\n",
    "    for resourceid in RESOURCES:\n",
    "        url = SERVER + resourceid + LIMIT\n",
    "        resp = requests.get(url)\n",
    "        result = resp.json()\n",
    "        result = result['result']['records']\n",
    "        df = pd.DataFrame(result)\n",
    "        resalepricedf = resalepricedf.append(df)\n",
    "\n",
    "    print(resalepricedf.info())\n",
    "    print(resalepricedf.head())"
   ]
  },
  {
   "cell_type": "code",
   "execution_count": null,
   "metadata": {},
   "outputs": [],
   "source": []
  },
  {
   "cell_type": "code",
   "execution_count": 12,
   "metadata": {},
   "outputs": [
    {
     "name": "stdout",
     "output_type": "stream",
     "text": [
      "<class 'pandas.core.frame.DataFrame'>\n",
      "Int64Index: 836330 entries, 0 to 287199\n",
      "Data columns (total 12 columns):\n",
      " #   Column               Non-Null Count   Dtype \n",
      "---  ------               --------------   ----- \n",
      " 0   town                 836330 non-null  object\n",
      " 1   flat_type            836330 non-null  object\n",
      " 2   flat_model           836330 non-null  object\n",
      " 3   floor_area_sqm       836330 non-null  object\n",
      " 4   street_name          836330 non-null  object\n",
      " 5   resale_price         836330 non-null  object\n",
      " 6   month                836330 non-null  object\n",
      " 7   remaining_lease      127276 non-null  object\n",
      " 8   lease_commence_date  836330 non-null  object\n",
      " 9   storey_range         836330 non-null  object\n",
      " 10  _id                  836330 non-null  int64 \n",
      " 11  block                836330 non-null  object\n",
      "dtypes: int64(1), object(11)\n",
      "memory usage: 82.9+ MB\n",
      "None\n",
      "         town flat_type      flat_model floor_area_sqm        street_name  \\\n",
      "0  ANG MO KIO    2 ROOM        Improved             44  ANG MO KIO AVE 10   \n",
      "1  ANG MO KIO    3 ROOM  New Generation             67   ANG MO KIO AVE 4   \n",
      "2  ANG MO KIO    3 ROOM  New Generation             67   ANG MO KIO AVE 5   \n",
      "3  ANG MO KIO    3 ROOM  New Generation             68  ANG MO KIO AVE 10   \n",
      "4  ANG MO KIO    3 ROOM  New Generation             67   ANG MO KIO AVE 5   \n",
      "\n",
      "  resale_price    month     remaining_lease lease_commence_date storey_range  \\\n",
      "0       232000  2017-01  61 years 04 months                1979     10 TO 12   \n",
      "1       250000  2017-01  60 years 07 months                1978     01 TO 03   \n",
      "2       262000  2017-01  62 years 05 months                1980     01 TO 03   \n",
      "3       265000  2017-01   62 years 01 month                1980     04 TO 06   \n",
      "4       265000  2017-01  62 years 05 months                1980     01 TO 03   \n",
      "\n",
      "   _id block  \n",
      "0    1   406  \n",
      "1    2   108  \n",
      "2    3   602  \n",
      "3    4   465  \n",
      "4    5   601  \n"
     ]
    }
   ],
   "source": [
    "get_resale_price()"
   ]
  }
 ],
 "metadata": {
  "kernelspec": {
   "display_name": "Python 3",
   "language": "python",
   "name": "python3"
  },
  "language_info": {
   "codemirror_mode": {
    "name": "ipython",
    "version": 3
   },
   "file_extension": ".py",
   "mimetype": "text/x-python",
   "name": "python",
   "nbconvert_exporter": "python",
   "pygments_lexer": "ipython3",
   "version": "3.8.5"
  }
 },
 "nbformat": 4,
 "nbformat_minor": 4
}
